{
 "cells": [
  {
   "cell_type": "markdown",
   "id": "eaaabd9b",
   "metadata": {},
   "source": [
    "# Pdf extraction with unstructured.io\n",
    "\n",
    "Using the [Yolox paper](https://arxiv.org/pdf/2107.08430.pdf) as a guinea pig for extraction."
   ]
  },
  {
   "cell_type": "code",
   "execution_count": 22,
   "id": "c86513a9",
   "metadata": {},
   "outputs": [],
   "source": [
    "from unstructured.chunking.title import chunk_by_title\n",
    "from unstructured.staging.base import dict_to_elements, elements_to_text, convert_to_dict\n",
    "import polars as pl\n",
    "from polars import col\n",
    "import torch"
   ]
  },
  {
   "cell_type": "code",
   "execution_count": 23,
   "id": "6cdb7a8d",
   "metadata": {},
   "outputs": [],
   "source": [
    "import unstructured\n",
    "from unstructured.partition.pdf import partition_pdf"
   ]
  },
  {
   "cell_type": "code",
   "execution_count": 2,
   "id": "64f286e5",
   "metadata": {},
   "outputs": [
    {
     "data": {
      "text/plain": [
       "False"
      ]
     },
     "execution_count": 2,
     "metadata": {},
     "output_type": "execute_result"
    }
   ],
   "source": [
    "torch.cuda.is_available()"
   ]
  },
  {
   "cell_type": "markdown",
   "id": "bb4af1cb",
   "metadata": {},
   "source": [
    "Not even using a GPU"
   ]
  },
  {
   "cell_type": "code",
   "execution_count": 44,
   "id": "da17f09c",
   "metadata": {},
   "outputs": [],
   "source": [
    "def display_df(df: pl.DataFrame, *, n_rows=100, fmt_str_lengths=1000, tbl_width_chars=1000):\n",
    "    with pl.Config(tbl_rows=n_rows, tbl_cols=-1, fmt_str_lengths=fmt_str_lengths, tbl_width_chars=tbl_width_chars):\n",
    "        display(df)"
   ]
  },
  {
   "cell_type": "code",
   "execution_count": 36,
   "id": "418f74d2",
   "metadata": {},
   "outputs": [],
   "source": [
    "out_yolox = partition_pdf(\"2107.08430.pdf\", strategy=\"hi_res\", hi_res_model_name=\"yolox\", include_page_breaks=True)"
   ]
  },
  {
   "cell_type": "markdown",
   "id": "0b8d40b4",
   "metadata": {},
   "source": [
    "This took about 1m on my crappy 5 year old laptop"
   ]
  },
  {
   "cell_type": "code",
   "execution_count": 38,
   "id": "4638bd62",
   "metadata": {},
   "outputs": [],
   "source": [
    "out_fast = partition_pdf(\"2107.08430.pdf\", strategy=\"fast\", include_page_breaks=True)"
   ]
  },
  {
   "cell_type": "markdown",
   "id": "097f7b90",
   "metadata": {},
   "source": [
    "This is speedy, 1.5s, as it says on the tin"
   ]
  },
  {
   "cell_type": "code",
   "execution_count": 39,
   "id": "10a2c81f",
   "metadata": {},
   "outputs": [],
   "source": [
    "df_yolox = pl.DataFrame(convert_to_dict(out_yolox))\n",
    "df_fast = pl.DataFrame(convert_to_dict(out_fast))"
   ]
  },
  {
   "cell_type": "code",
   "execution_count": 55,
   "id": "48a7a870",
   "metadata": {},
   "outputs": [
    {
     "data": {
      "text/plain": [
       "(132, 298)"
      ]
     },
     "execution_count": 55,
     "metadata": {},
     "output_type": "execute_result"
    }
   ],
   "source": [
    "df_yolox.height, df_fast.height"
   ]
  },
  {
   "cell_type": "markdown",
   "id": "1e67d9c9",
   "metadata": {},
   "source": [
    "The approaches give quite different numbers of elements"
   ]
  },
  {
   "cell_type": "code",
   "execution_count": 45,
   "id": "37b41156",
   "metadata": {},
   "outputs": [
    {
     "data": {
      "text/html": [
       "<div><style>\n",
       ".dataframe > thead > tr,\n",
       ".dataframe > tbody > tr {\n",
       "  text-align: right;\n",
       "  white-space: pre-wrap;\n",
       "}\n",
       "</style>\n",
       "<small>shape: (11, 2)</small><table border=\"1\" class=\"dataframe\"><thead><tr><th>type</th><th>count</th></tr><tr><td>str</td><td>u32</td></tr></thead><tbody><tr><td>&quot;FigureCaption&quot;</td><td>7</td></tr><tr><td>&quot;Footer&quot;</td><td>7</td></tr><tr><td>&quot;Formula&quot;</td><td>1</td></tr><tr><td>&quot;Header&quot;</td><td>1</td></tr><tr><td>&quot;Image&quot;</td><td>4</td></tr><tr><td>&quot;ListItem&quot;</td><td>33</td></tr><tr><td>&quot;NarrativeText&quot;</td><td>49</td></tr><tr><td>&quot;PageBreak&quot;</td><td>6</td></tr><tr><td>&quot;Table&quot;</td><td>6</td></tr><tr><td>&quot;Title&quot;</td><td>16</td></tr><tr><td>&quot;UncategorizedText&quot;</td><td>2</td></tr></tbody></table></div>"
      ],
      "text/plain": [
       "shape: (11, 2)\n",
       "┌───────────────────┬───────┐\n",
       "│ type              ┆ count │\n",
       "│ ---               ┆ ---   │\n",
       "│ str               ┆ u32   │\n",
       "╞═══════════════════╪═══════╡\n",
       "│ FigureCaption     ┆ 7     │\n",
       "│ Footer            ┆ 7     │\n",
       "│ Formula           ┆ 1     │\n",
       "│ Header            ┆ 1     │\n",
       "│ Image             ┆ 4     │\n",
       "│ ListItem          ┆ 33    │\n",
       "│ NarrativeText     ┆ 49    │\n",
       "│ PageBreak         ┆ 6     │\n",
       "│ Table             ┆ 6     │\n",
       "│ Title             ┆ 16    │\n",
       "│ UncategorizedText ┆ 2     │\n",
       "└───────────────────┴───────┘"
      ]
     },
     "metadata": {},
     "output_type": "display_data"
    }
   ],
   "source": [
    "display_df(df_yolox[\"type\"].value_counts().sort(\"type\"))"
   ]
  },
  {
   "cell_type": "code",
   "execution_count": 46,
   "id": "cc5c0ce7",
   "metadata": {},
   "outputs": [
    {
     "data": {
      "text/html": [
       "<div><style>\n",
       ".dataframe > thead > tr,\n",
       ".dataframe > tbody > tr {\n",
       "  text-align: right;\n",
       "  white-space: pre-wrap;\n",
       "}\n",
       "</style>\n",
       "<small>shape: (5, 2)</small><table border=\"1\" class=\"dataframe\"><thead><tr><th>type</th><th>count</th></tr><tr><td>str</td><td>u32</td></tr></thead><tbody><tr><td>&quot;ListItem&quot;</td><td>12</td></tr><tr><td>&quot;NarrativeText&quot;</td><td>89</td></tr><tr><td>&quot;PageBreak&quot;</td><td>7</td></tr><tr><td>&quot;Title&quot;</td><td>69</td></tr><tr><td>&quot;UncategorizedText&quot;</td><td>121</td></tr></tbody></table></div>"
      ],
      "text/plain": [
       "shape: (5, 2)\n",
       "┌───────────────────┬───────┐\n",
       "│ type              ┆ count │\n",
       "│ ---               ┆ ---   │\n",
       "│ str               ┆ u32   │\n",
       "╞═══════════════════╪═══════╡\n",
       "│ ListItem          ┆ 12    │\n",
       "│ NarrativeText     ┆ 89    │\n",
       "│ PageBreak         ┆ 7     │\n",
       "│ Title             ┆ 69    │\n",
       "│ UncategorizedText ┆ 121   │\n",
       "└───────────────────┴───────┘"
      ]
     },
     "metadata": {},
     "output_type": "display_data"
    }
   ],
   "source": [
    "display_df(df_fast[\"type\"].value_counts().sort(\"type\"))"
   ]
  },
  {
   "cell_type": "markdown",
   "id": "8130da03",
   "metadata": {},
   "source": [
    "When you use yolox you get a lot more categories"
   ]
  },
  {
   "cell_type": "markdown",
   "id": "e3ed26d3",
   "metadata": {},
   "source": [
    "## Is the table category accurate?"
   ]
  },
  {
   "cell_type": "code",
   "execution_count": 33,
   "id": "58143aa2",
   "metadata": {},
   "outputs": [
    {
     "name": "stdout",
     "output_type": "stream",
     "text": [
      "Models Coupled Head Decoupled Head Vanilla YOLO End-to-end YOLO 38.5 34.3 (-4.2) 39.6 38.8 (-0.8)\n",
      "Methods AP (%) Parameters GFLOPs Latency FPS YOLOv3-ultralytics2 44.3 63.00 M 157.3 10.5 ms 95.2 YOLOv3 baseline +decoupled head +strong augmentation +anchor-free +multi positives +SimOTA +NMS free (optional) 38.5 39.6 (+1.1) 42.0 (+2.4) 42.9 (+0.9) 45.0 (+2.1) 47.3 (+2.3) 46.5 (-0.8) 63.00 M 63.86 M 63.86 M 63.72 M 63.72 M 63.72 M 67.27 M 157.3 186.0 186.0 185.3 185.3 185.3 205.1 10.5 ms 11.6 ms 11.6 ms 11.1 ms 11.1 ms 11.1 ms 13.5 ms 95.2 86.2 86.2 90.1 90.1 90.1 74.1\n",
      "Models AP (%) Parameters GFLOPs Latency YOLOv5-S YOLOX-S 36.7 39.6 (+2.9) 7.3 M 9.0 M 17.1 26.8 8.7 ms 9.8 ms YOLOv5-M 44.5 YOLOX-M 46.4 (+1.9) 21.4 M 25.3 M 51.4 73.8 11.1 ms 12.3 ms YOLOv5-L YOLOX-L 48.2 50.0 (+1.8) 47.1 M 54.2 M 115.6 155.6 13.7 ms 14.5 ms YOLOv5-X 50.4 YOLOX-X 51.2 (+0.8) 87.8 M 99.1 M 219.0 281.9 16.0 ms 17.3 ms\n",
      "Models AP (%) Parameters GFLOPs YOLOv4-Tiny [30] PPYOLO-Tiny YOLOX-Tiny 21.7 22.7 32.8 (+10.1) 6.06 M 4.20 M 5.06 M 6.96 - 6.45 NanoDet3 YOLOX-Nano 23.5 25.3 (+1.8) 0.95 M 0.91 M 1.20 1.08\n",
      "Models Scale Jit. Extra Aug. AP (%) YOLOX-Nano [0.5, 1.5] [0.1, 2.0] - MixUp 25.3 24.0 (-1.3) YOLOX-L [0.1, 2.0] [0.1, 2.0] - MixUp 48.6 49.5 (+0.9) [0.1, 2.0] Copypaste [6] 49.4\n",
      "Method Backbone Size FPS AP (%) AP50 AP75 APS APM APL (V100) YOLOv3 + ASFF* [18] Darknet-53 YOLOv3 + ASFF* [18] Darknet-53 608 800 45.5 29.4 42.4 43.9 63.0 64.1 47.4 49.2 25.5 27.0 45.7 46.6 52.3 53.4 EfﬁcientDet-D0 [28] EfﬁcientDet-D1 [28] EfﬁcientDet-D2 [28] EfﬁcientDet-D3 [28] Efﬁcient-B0 Efﬁcient-B1 Efﬁcient-B2 Efﬁcient-B3 512 640 768 896 98.0 74.1 56.5 34.5 33.8 39.6 43.0 45.8 52.2 58.6 62.3 65.0 35.8 42.3 46.2 49.3 12.0 17.9 22.5 26.6 38.3 44.3 47.0 49.4 51.2 56.0 58.4 59.8 PP-YOLOv2 [11] PP-YOLOv2 [11] ResNet50-vd-dcn ResNet101-vd-dcn 640 640 68.9 50.3 49.5 50.3 68.2 69.0 54.4 55.3 30.7 31.6 52.9 53.9 61.2 62.4 YOLOv4 [1] YOLOv4-CSP [30] CSPDarknet-53 Modiﬁed CSP 608 640 62.0 73.0 43.5 47.5 65.7 66.2 47.3 51.7 26.7 28.2 46.7 51.2 53.3 59.8 YOLOv3-ultralytics2 YOLOv5-M [7] YOLOv5-L [7] YOLOv5-X [7] Darknet-53 Modiﬁed CSP v5 Modiﬁed CSP v5 Modiﬁed CSP v5 640 640 640 640 95.2 90.1 73.0 62.5 44.3 44.5 48.2 50.4 64.6 63.1 66.9 68.8 - - - - - - - - - - - - - - - - YOLOX-DarkNet53 YOLOX-M YOLOX-L YOLOX-X Darknet-53 Modiﬁed CSP v5 Modiﬁed CSP v5 Modiﬁed CSP v5 640 640 640 640 90.1 81.3 69.0 57.8 47.4 46.4 50.0 51.2 67.3 65.4 68.5 69.6 52.1 50.6 54.5 55.7 27.5 26.3 29.8 31.2 51.5 51.0 54.5 56.1 60.9 59.9 64.4 66.1\n"
     ]
    }
   ],
   "source": [
    "for row in df_yolox.filter(col(\"type\") == \"Table\")[\"text\"]:\n",
    "    print(row)"
   ]
  },
  {
   "cell_type": "markdown",
   "id": "ceaecd3a",
   "metadata": {},
   "source": [
    "These indeed seem to correspond to the text in the table"
   ]
  },
  {
   "cell_type": "markdown",
   "id": "75f327b7",
   "metadata": {},
   "source": [
    "## Are the titles accurate?"
   ]
  },
  {
   "cell_type": "code",
   "execution_count": 35,
   "id": "f24b76cb",
   "metadata": {},
   "outputs": [
    {
     "name": "stdout",
     "output_type": "stream",
     "text": [
      "YOLOX: Exceeding YOLO Series in 2021\n",
      "Zheng Ge∗ Songtao Liu∗† Feng Wang Zeming Li Jian Sun\n",
      "Megvii Technology {gezheng, liusongtao, wangfeng02, lizeming, sunjian}@megvii.com\n",
      "Abstract\n",
      "1. Introduction\n",
      "2. YOLOX\n",
      "2.1. YOLOX-DarkNet53\n",
      "2https://github.com/ultralytics/yolov3 3https://github.com/RangiLyu/nanodet\n",
      "FPN\n",
      "thus train all the following models from scratch.\n",
      "2.2. Other Backbones\n",
      "3. Comparison with the SOTA\n",
      "4. 1st Place on Streaming Perception Challenge (WAD at CVPR 2021)\n",
      "Acknowledge\n",
      "References\n",
      "5. Conclusion\n"
     ]
    }
   ],
   "source": [
    "for row in df_yolox.filter(col(\"type\") == \"Title\")[\"text\"]:\n",
    "    print(row)"
   ]
  },
  {
   "cell_type": "markdown",
   "id": "45254db8",
   "metadata": {},
   "source": [
    "Mostly good, some places it's wrong but in an understandable way"
   ]
  },
  {
   "cell_type": "markdown",
   "id": "119a40e6",
   "metadata": {},
   "source": [
    "## What kind of metadata do we get?"
   ]
  },
  {
   "cell_type": "code",
   "execution_count": 50,
   "id": "5e4e0bb8",
   "metadata": {},
   "outputs": [
    {
     "data": {
      "text/plain": [
       "{'detection_class_prob': 0.9526500105857849,\n",
       " 'coordinates': {'points': [[138.61550903320312, 575.0453377777786],\n",
       "   [138.61550903320312, 1035.1983642578125],\n",
       "   [798.3045654296875, 1035.1983642578125],\n",
       "   [798.3045654296875, 575.0453377777786]],\n",
       "  'system': 'PixelSpace',\n",
       "  'layout_width': 1700,\n",
       "  'layout_height': 2200},\n",
       " 'last_modified': '2024-04-13T14:04:15',\n",
       " 'filetype': 'application/pdf',\n",
       " 'languages': ['eng'],\n",
       " 'page_number': 2,\n",
       " 'filename': '2107.08430.pdf',\n",
       " 'parent_id': None}"
      ]
     },
     "execution_count": 50,
     "metadata": {},
     "output_type": "execute_result"
    }
   ],
   "source": [
    "df_yolox.sample(1, seed=42)[\"metadata\"][0]"
   ]
  },
  {
   "cell_type": "code",
   "execution_count": 54,
   "id": "83f9aa80",
   "metadata": {},
   "outputs": [
    {
     "data": {
      "text/plain": [
       "{'detection_class_prob': 0.9438773989677429,\n",
       " 'coordinates': {'points': [[139.2, 1266.9449494444443],\n",
       "   [139.2, 1892.3771716666668],\n",
       "   [800.0421142578125, 1892.3771716666668],\n",
       "   [800.0421142578125, 1266.9449494444443]],\n",
       "  'system': 'PixelSpace',\n",
       "  'layout_width': 1700,\n",
       "  'layout_height': 2200},\n",
       " 'last_modified': '2024-04-13T14:04:15',\n",
       " 'filetype': 'application/pdf',\n",
       " 'languages': ['eng'],\n",
       " 'page_number': 1,\n",
       " 'filename': '2107.08430.pdf',\n",
       " 'parent_id': 'ebf237f98f05c4390df1cde93629de8d'}"
      ]
     },
     "execution_count": 54,
     "metadata": {},
     "output_type": "execute_result"
    }
   ],
   "source": [
    "df_yolox.filter(col(\"type\")==\"NarrativeText\")[\"metadata\"][0]"
   ]
  },
  {
   "cell_type": "markdown",
   "id": "845f058f",
   "metadata": {},
   "source": [
    "Class probabilities are quite interesting"
   ]
  },
  {
   "cell_type": "code",
   "execution_count": 61,
   "id": "80ccca57",
   "metadata": {},
   "outputs": [
    {
     "data": {
      "text/plain": [
       "{'detection_class_prob': None,\n",
       " 'coordinates': {'points': [[169.36388888888888, 1927.1432266666668],\n",
       "   [169.36388888888888, 1978.2544575],\n",
       "   [670.5395, 1978.2544575],\n",
       "   [670.5395, 1927.1432266666668]],\n",
       "  'system': 'PixelSpace',\n",
       "  'layout_width': 1700,\n",
       "  'layout_height': 2200},\n",
       " 'last_modified': '2024-04-13T14:04:15',\n",
       " 'filetype': 'application/pdf',\n",
       " 'languages': ['eng'],\n",
       " 'page_number': 2,\n",
       " 'filename': '2107.08430.pdf',\n",
       " 'parent_id': None}"
      ]
     },
     "execution_count": 61,
     "metadata": {},
     "output_type": "execute_result"
    }
   ],
   "source": [
    "df_yolox.filter(col(\"type\") == \"Title\")[7][\"metadata\"][0]"
   ]
  },
  {
   "cell_type": "code",
   "execution_count": 64,
   "id": "b331e0c7",
   "metadata": {},
   "outputs": [],
   "source": [
    "df_yolox = df_yolox.with_columns(\n",
    "    col(\"metadata\").struct.field(\"detection_class_prob\")\n",
    ")"
   ]
  },
  {
   "cell_type": "code",
   "execution_count": 77,
   "id": "d41d59a6",
   "metadata": {},
   "outputs": [
    {
     "data": {
      "text/plain": [
       "(18, 132)"
      ]
     },
     "execution_count": 77,
     "metadata": {},
     "output_type": "execute_result"
    }
   ],
   "source": [
    "n_null_detection_class_probas = df_yolox[\"detection_class_prob\"].is_null().sum()\n",
    "n_null_detection_class_probas, df_yolox.height"
   ]
  },
  {
   "cell_type": "code",
   "execution_count": 74,
   "id": "7050679d",
   "metadata": {},
   "outputs": [],
   "source": [
    "import matplotlib.pyplot as plt"
   ]
  },
  {
   "cell_type": "code",
   "execution_count": 78,
   "id": "80102c41",
   "metadata": {},
   "outputs": [
    {
     "data": {
      "text/plain": [
       "Text(0.5, 1.0, '# elements null prob = 18; total elements = 132')"
      ]
     },
     "execution_count": 78,
     "metadata": {},
     "output_type": "execute_result"
    },
    {
     "data": {
      "image/png": "[encoded data removed]",
      "text/plain": [
       "<Figure size 640x480 with 1 Axes>"
      ]
     },
     "metadata": {},
     "output_type": "display_data"
    }
   ],
   "source": [
    "fig, ax = plt.subplots()\n",
    "ax.hist(df_yolox[\"detection_class_prob\"], bins=\"auto\", density=True);\n",
    "ax.set_xlabel(\"detection_class_prob\")\n",
    "ax.set_ylabel(\"Density\")\n",
    "ax.set_title(f\"# elements null prob = {n_null_detection_class_probas}; total elements = {df_yolox.height}\")"
   ]
  },
  {
   "cell_type": "markdown",
   "id": "5413ce5d",
   "metadata": {},
   "source": [
    "## Make \"clean\" narrative text chunks"
   ]
  },
  {
   "cell_type": "code",
   "execution_count": 80,
   "id": "ca8b2bc9",
   "metadata": {},
   "outputs": [
    {
     "data": {
      "text/html": [
       "<div><style>\n",
       ".dataframe > thead > tr,\n",
       ".dataframe > tbody > tr {\n",
       "  text-align: right;\n",
       "  white-space: pre-wrap;\n",
       "}\n",
       "</style>\n",
       "<small>shape: (11, 2)</small><table border=\"1\" class=\"dataframe\"><thead><tr><th>type</th><th>count</th></tr><tr><td>str</td><td>u32</td></tr></thead><tbody><tr><td>&quot;FigureCaption&quot;</td><td>7</td></tr><tr><td>&quot;Footer&quot;</td><td>7</td></tr><tr><td>&quot;Formula&quot;</td><td>1</td></tr><tr><td>&quot;Header&quot;</td><td>1</td></tr><tr><td>&quot;Image&quot;</td><td>4</td></tr><tr><td>&quot;ListItem&quot;</td><td>33</td></tr><tr><td>&quot;NarrativeText&quot;</td><td>49</td></tr><tr><td>&quot;PageBreak&quot;</td><td>6</td></tr><tr><td>&quot;Table&quot;</td><td>6</td></tr><tr><td>&quot;Title&quot;</td><td>16</td></tr><tr><td>&quot;UncategorizedText&quot;</td><td>2</td></tr></tbody></table></div>"
      ],
      "text/plain": [
       "shape: (11, 2)\n",
       "┌───────────────────┬───────┐\n",
       "│ type              ┆ count │\n",
       "│ ---               ┆ ---   │\n",
       "│ str               ┆ u32   │\n",
       "╞═══════════════════╪═══════╡\n",
       "│ FigureCaption     ┆ 7     │\n",
       "│ Footer            ┆ 7     │\n",
       "│ Formula           ┆ 1     │\n",
       "│ Header            ┆ 1     │\n",
       "│ Image             ┆ 4     │\n",
       "│ ListItem          ┆ 33    │\n",
       "│ NarrativeText     ┆ 49    │\n",
       "│ PageBreak         ┆ 6     │\n",
       "│ Table             ┆ 6     │\n",
       "│ Title             ┆ 16    │\n",
       "│ UncategorizedText ┆ 2     │\n",
       "└───────────────────┴───────┘"
      ]
     },
     "metadata": {},
     "output_type": "display_data"
    }
   ],
   "source": [
    "display_df(df_yolox[\"type\"].value_counts().sort(\"type\"))"
   ]
  },
  {
   "cell_type": "code",
   "execution_count": 81,
   "id": "5051db96",
   "metadata": {},
   "outputs": [],
   "source": [
    "retained_types = {\"NarrativeText\", \"PageBreak\", \"Title\"}"
   ]
  },
  {
   "cell_type": "code",
   "execution_count": 82,
   "id": "be668f42",
   "metadata": {},
   "outputs": [],
   "source": [
    "df_yolox_clean = df_yolox.filter(\n",
    "    col(\"type\").is_in(retained_types) & col(\"detection_class_prob\").is_not_null()\n",
    ")"
   ]
  },
  {
   "cell_type": "code",
   "execution_count": 84,
   "id": "cbaa065c",
   "metadata": {},
   "outputs": [
    {
     "data": {
      "text/html": [
       "<div><style>\n",
       ".dataframe > thead > tr,\n",
       ".dataframe > tbody > tr {\n",
       "  text-align: right;\n",
       "  white-space: pre-wrap;\n",
       "}\n",
       "</style>\n",
       "<small>shape: (5, 5)</small><table border=\"1\" class=\"dataframe\"><thead><tr><th>type</th><th>element_id</th><th>text</th><th>metadata</th><th>detection_class_prob</th></tr><tr><td>str</td><td>str</td><td>str</td><td>struct[8]</td><td>f64</td></tr></thead><tbody><tr><td>&quot;Title&quot;</td><td>&quot;2e8cad76afca6d…</td><td>&quot;YOLOX: Exceedi…</td><td>{0.564603,{[[464.045593, 293.292099], [464.045593, 333.564758], … [1186.208984, 293.292099]],&quot;PixelSpace&quot;,1700,2200},&quot;2024-04-13T14:04:15&quot;,&quot;application/pdf&quot;,[&quot;eng&quot;],1,&quot;2107.08430.pdf&quot;,null}</td><td>0.564603</td></tr><tr><td>&quot;Title&quot;</td><td>&quot;a7bf4337638319…</td><td>&quot;Zheng Ge∗ Song…</td><td>{0.6068,{[[360.803802, 400.078054], [360.803802, 474.714813], … [1290.02063, 400.078054]],&quot;PixelSpace&quot;,1700,2200},&quot;2024-04-13T14:04:15&quot;,&quot;application/pdf&quot;,[&quot;eng&quot;],1,&quot;2107.08430.pdf&quot;,null}</td><td>0.6068</td></tr><tr><td>&quot;Title&quot;</td><td>&quot;ebf237f98f05c4…</td><td>&quot;Abstract&quot;</td><td>{0.827948,{[[405.541667, 1193.431769], [405.541667, 1226.640658], … [530.184875, 1193.431769]],&quot;PixelSpace&quot;,1700,2200},&quot;2024-04-13T14:04:15&quot;,&quot;application/pdf&quot;,[&quot;eng&quot;],1,&quot;2107.08430.pdf&quot;,null}</td><td>0.827948</td></tr><tr><td>&quot;NarrativeText&quot;</td><td>&quot;c4dabd97240aae…</td><td>&quot;In this report…</td><td>{0.943877,{[[139.2, 1266.944949], [139.2, 1892.377172], … [800.042114, 1266.944949]],&quot;PixelSpace&quot;,1700,2200},&quot;2024-04-13T14:04:15&quot;,&quot;application/pdf&quot;,[&quot;eng&quot;],1,&quot;2107.08430.pdf&quot;,&quot;ebf237f98f05c4390df1cde93629de8d&quot;}</td><td>0.943877</td></tr><tr><td>&quot;NarrativeText&quot;</td><td>&quot;901bbffb419c52…</td><td>&quot;researchers in…</td><td>{0.922953,{[[857.281494, 1164.156061], [857.281494, 1292.044434], … [1521.846069, 1164.156061]],&quot;PixelSpace&quot;,1700,2200},&quot;2024-04-13T14:04:15&quot;,&quot;application/pdf&quot;,[&quot;eng&quot;],1,&quot;2107.08430.pdf&quot;,&quot;ebf237f98f05c4390df1cde93629de8d&quot;}</td><td>0.922953</td></tr></tbody></table></div>"
      ],
      "text/plain": [
       "shape: (5, 5)\n",
       "┌───────────────┬────────────────────┬────────────────────┬────────────────────┬───────────────────┐\n",
       "│ type          ┆ element_id         ┆ text               ┆ metadata           ┆ detection_class_p │\n",
       "│ ---           ┆ ---                ┆ ---                ┆ ---                ┆ rob               │\n",
       "│ str           ┆ str                ┆ str                ┆ struct[8]          ┆ ---               │\n",
       "│               ┆                    ┆                    ┆                    ┆ f64               │\n",
       "╞═══════════════╪════════════════════╪════════════════════╪════════════════════╪═══════════════════╡\n",
       "│ Title         ┆ 2e8cad76afca6dc466 ┆ YOLOX: Exceeding   ┆ {0.564603,{[[464.0 ┆ 0.564603          │\n",
       "│               ┆ 2f568507657f78     ┆ YOLO Series in …   ┆ 45593, 293.292…    ┆                   │\n",
       "│ Title         ┆ a7bf43376383192d1c ┆ Zheng Ge∗ Songtao  ┆ {0.6068,{[[360.803 ┆ 0.6068            │\n",
       "│               ┆ 8a6508d00a105d     ┆ Liu∗† Feng Wan…    ┆ 802, 400.07805…    ┆                   │\n",
       "│ Title         ┆ ebf237f98f05c4390d ┆ Abstract           ┆ {0.827948,{[[405.5 ┆ 0.827948          │\n",
       "│               ┆ f1cde93629de8d     ┆                    ┆ 41667, 1193.43…    ┆                   │\n",
       "│ NarrativeText ┆ c4dabd97240aae4bbb ┆ In this report, we ┆ {0.943877,{[[139.2 ┆ 0.943877          │\n",
       "│               ┆ dacdd5e91b1a9c     ┆ present some …     ┆ , 1266.944949]…    ┆                   │\n",
       "│ NarrativeText ┆ 901bbffb419c52b83d ┆ researchers in     ┆ {0.922953,{[[857.2 ┆ 0.922953          │\n",
       "│               ┆ a4a09edd48630a     ┆ practical scenes,… ┆ 81494, 1164.15…    ┆                   │\n",
       "└───────────────┴────────────────────┴────────────────────┴────────────────────┴───────────────────┘"
      ]
     },
     "execution_count": 84,
     "metadata": {},
     "output_type": "execute_result"
    }
   ],
   "source": [
    "df_yolox_clean.head()"
   ]
  },
  {
   "cell_type": "code",
   "execution_count": null,
   "id": "63262be3",
   "metadata": {},
   "outputs": [],
   "source": []
  },
  {
   "cell_type": "code",
   "execution_count": null,
   "id": "27ae019f",
   "metadata": {},
   "outputs": [],
   "source": []
  },
  {
   "cell_type": "code",
   "execution_count": null,
   "id": "02b0035e",
   "metadata": {},
   "outputs": [],
   "source": []
  },
  {
   "cell_type": "code",
   "execution_count": null,
   "id": "3b65d148",
   "metadata": {},
   "outputs": [],
   "source": []
  },
  {
   "cell_type": "code",
   "execution_count": null,
   "id": "5a6b56ff",
   "metadata": {},
   "outputs": [],
   "source": []
  },
  {
   "cell_type": "code",
   "execution_count": null,
   "id": "64cc1f63",
   "metadata": {},
   "outputs": [],
   "source": []
  },
  {
   "cell_type": "code",
   "execution_count": null,
   "id": "369a1a63",
   "metadata": {},
   "outputs": [],
   "source": []
  },
  {
   "cell_type": "code",
   "execution_count": null,
   "id": "c1669333",
   "metadata": {},
   "outputs": [],
   "source": []
  },
  {
   "cell_type": "code",
   "execution_count": null,
   "id": "f7ace1c0",
   "metadata": {},
   "outputs": [],
   "source": []
  },
  {
   "cell_type": "code",
   "execution_count": null,
   "id": "91914ee7",
   "metadata": {},
   "outputs": [],
   "source": []
  },
  {
   "cell_type": "code",
   "execution_count": null,
   "id": "9de5a49c",
   "metadata": {},
   "outputs": [],
   "source": []
  },
  {
   "cell_type": "code",
   "execution_count": null,
   "id": "fc1ec69b",
   "metadata": {},
   "outputs": [],
   "source": [
    "chunks_yolox = chunk_by_title(\n",
    "    out_yolox,\n",
    "    combine_text_under_n_chars=100,\n",
    "    max_characters=3000,\n",
    ")\n",
    "\n",
    "chunks_fast = chunk_by_title(\n",
    "    out_fast,\n",
    "    combine_text_under_n_chars=100,\n",
    "    max_characters=3000,\n",
    ")"
   ]
  },
  {
   "cell_type": "code",
   "execution_count": 9,
   "id": "e93096c0-e128-4e8d-bb4d-800e2dee7784",
   "metadata": {},
   "outputs": [
    {
     "name": "stdout",
     "output_type": "stream",
     "text": [
      "| INVESTIGATION\n",
      "Mitochondrial Network State Scales mtDNA Genetic Dynamics\n",
      "Juvid Aryaman,*,†,‡ Charlotte Bowles,§ Nick S. Jones,*,**,1 and Iain G. Johnston††,‡‡,1 *Department of Mathematics and **Engineering and Physical Sciences Research Council Centre for the Mathematics of Precision Healthcare, Imperial College London, SW7 2AZ, United Kingdom; †Department of Clinical Neurosciences, University of Cambridge, CB2 0QQ, United Kingdom; ‡Medical Research Council Mitochondrial Biology Unit, University of Cambridge, CB2 0XY, United Kingdom; §School of Biosciences, University of Birmingham, B15 2TT, United Kingdom; ††Faculty of Mathematics and Natural Sciences, University of Bergen, 5007, Norway; and ‡‡Alan Turing Institute, London NW1 2DB, United Kingdom ORCID IDs: 0000-0002-2605-052X (J.A.); 0000-0002-4083-972X (N.S.J.); 0000-0001-8559-3519 (I.G.J.)\n",
      "ABSTRACT Mitochondrial DNA (mtDNA) mutations cause severe congenital diseases but may also be associated with healthy aging. mtDNA is stochastically replicated and degraded, and exists within organelles which undergo dynamic fusion and ﬁssion. The role of the resulting mitochondrial networks in the time evolution of the cellular proportion of mutated mtDNA molecules (heteroplasmy), and cell-to-cell variability in heteroplasmy (heteroplasmy variance), remains incompletely understood. Heteroplasmy variance is particularly important since it modulates the number of pathological cells in a tissue. Here, we provide the ﬁrst wide-reaching theoretical framework which bridges mitochondrial network and genetic states. We show that, under a range of conditions, the (genetic) rate of increase in heteroplasmy variance and de novo mutation are proportionally modulated by the (physical) fraction of unfused mitochon- dria, independently of the absolute ﬁssion–fusion rate. In the context of selective fusion, we show that intermediate fusion:ﬁssion ratios are optimal for the clearance of mtDNA mutants. Our ﬁndings imply that modulating network state, mitophagy rate, and copy number to slow down heteroplasmy dynamics when mean heteroplasmy is low could have therapeutic advantages for mitochondrial disease and healthy aging.\n",
      "KEYWORDS mitochondrial DNA; mitochondrial networks; heteroplasmy variance; cellular noise\n",
      "the respiratory system vital for cellular function. Mu- tation of mtDNA is one of several leading hypotheses for the cause of normal aging (López-Otín et al. 2013; Kauppila et al. 2017), as well as underlying a number of heritable mtDNA- related diseases (Schon et al. 2012). Cells typically contain hundreds, or thousands, of copies of mtDNA per cell: each molecule encodes crucial components of the electron transport\n",
      "chain, which generates energy for the cell in the form of ATP. Consequently, the mitochondrial phenotype of a single cell is determined, in part, by its ﬂuctuating population of mtDNA molecules (Wallace and Chalkia 2013; Stewart and Chinnery 2015; Aryaman et al. 2019; Johnston 2019). The broad biomedical implications of mtDNA mutation, combined with the countable nature of mtDNAs and the stochastic nature of their dynamics, offer the opportunity for mathematical under- standing to provide important insights into human health and disease (Aryaman et al. 2019).\n",
      "Copyright © 2019 Aryaman et al. doi: https://doi.org/10.1534/genetics.119.302423 Manuscript received April 2, 2019; accepted for publication June 28, 2019; published Early Online June 28, 2019. Available freely online through the author-supported open access option. This is an open-access article distributed under the terms of the Creative Commons Attribution 4.0 International License (http://creativecommons.org/licenses/by/4.0/), which permits unrestricted use, distribution, and reproduction in any medium, provided the original work is properly cited. Supplemental material available at FigShare: https://doi.org/10.25386/genetics. 8343830. 1Corresponding authors: Department of Mathematics, Imperial College London, London SW7 2AZ, United Kingdom. E-mail: nick.jones@imperial.ac.uk; and Faculty of Mathematics and Natural Sciences, University of Bergen, 5007 Bergen, Norway. E-mail: iain.johnston@uib.no\n",
      "An important observation in mitochondrial physiology is the threshold effect, whereby cells may often tolerate rela- tively high levels of mtDNA mutation until the fraction of mutated mtDNAs (termed heteroplasmy) exceeds a certain critical value where a pathological phenotype occurs (Rossignol et al. 2003; Picard et al. 2014; Stewart and Chinnery 2015; Aryaman et al. 2017). Fluctuations within individual cells mean that the fraction of mutant mtDNAs per cell is not constant within a tissue (Figure 1A), but fol- lows a probability distribution which changes with time\n",
      "Genetics, Vol. 212, 1429–1443 August 2019\n",
      "1429\n",
      "D o w n o a d e d\n",
      "l\n",
      "f r o m h\n",
      "t t\n",
      "p s : / /\n",
      "a c a d e m c . o u p . c o m g e n e\n",
      "i\n",
      "/ t i c s / a r t i c e 2 1 2 4 1 4 2 9 5 9 3 1 2 4 1 b y g u e s t l / / / / o n 1 3 A p r i l 2 0 2 4\n",
      "(Figure 1B). Here, motivated by a general picture of aging, we will largely focus on the setting of nondividing cells, which possess two mtDNA variants (although we will also consider de novo mutation using simple statistical genetics models). The variance of the distribution of heteroplasmies gives the fraction of cells above a given pathological thresh- old (Figure 1B). Therefore, heteroplasmy variance is related to the number of dysfunctional cells above a phenotypic threshold within a tissue, and both heteroplasmy mean and variance are directly related to tissue physiology. Increases in heteroplasmy variance also increase the number of cells be- low a given threshold heteroplasmy, which can be advanta- geous in, e.g., selecting low-heteroplasmy embryos in preimplantation genetic diagnosis for treating mitochondrial disease (Burgstaller et al. 2014b; Johnston et al. 2015).\n",
      "Mitochondria exist within a network which dynamically fuses and fragments. Although the function of mitochondrial networks remains an open question (Hoitzing et al. 2015), it is often thought that a combination of network dynamics and mitochondrial autophagy (termed mitophagy) act in concert to perform quality control on the mitochondrial population (Twig et al. 2008; Aryaman et al. 2019; Johnston 2019). Observations of pervasive intramitochondrial mtDNA muta- tion (Morris et al. 2017) and universal heteroplasmy in hu- mans (Payne et al. 2012) suggest that the power of this quality control may be limited. It has also been suggested that certain mtDNA mutations, such as deletions (Kowald and Kirkwood 2013, 2014, 2018) and some point mutations (Samuels et al. 2013; Ye et al. 2014; Li et al. 2015; Lieber et al. 2019), are under the inﬂuence of selective effects. However, genetic models without selection have proven valuable in explaining the heteroplasmy dynamics both of functional mu- tations (Elson et al. 2001; Taylor et al. 2003; Wonnapinij et al. 2008) and polymorphisms without dramatic functional con- sequences (Birky et al. 1983; Ye et al. 2014), and in common cases where mean heteroplasmy shifts are small compared to changes in variances [for instance, in germline development (Johnston et al. 2015) and postmitotic tissues (Burgstaller et al. 2014a)]. Mean changes seem more likely in high- turnover tissues and when mtDNA variants are genetically distant (Burgstaller et al. 2014a; Pan et al. 2019), suggesting that neutral genetic theory may be useful in understanding the dynamics of the set of functionally mild mutations which ac- cumulate during aging. Furthermore, there currently exists limited evidence for pronounced, universal, selective differ- ences of mitochondrial variants in vivo (Stewart and Larsson 2014; Hoitzing 2017). Neutral genetic theory also provides a valuable null model for understanding mitochondrial genetic dynamics (Chinnery and Samuels 1999; Poovathingal et al. 2009; Johnston and Jones 2016), potentially allowing us to better understand and quantify when selection is present. There is thus a set of open questions about how the physical dynamics of mitochondria affect the genetic populations of mtDNA within and between cells under neutral dynamics.\n",
      "A number of studies have attempted to understand the impact of the mitochondrial network on mitochondrial\n",
      "1430 J. Aryaman et al.\n",
      "dysfunction through computer simulation (reviewed in Kowald and Klipp 2014). These studies have suggested the following: that clearance of damaged mtDNA can be assisted by high and functionally selective mitochondrial fusion, or by intermediate fusion and selective mitophagy (Mouli et al. 2009); that physical transport of mitochondria can indirectly modulate mitochondrial health through mi- tochondrial dynamics (Patel et al. 2013); that ﬁssion–fusion dynamic rates modulate a trade-off between mutant prolif- eration and removal (Tam et al. 2013, 2015); and that if ﬁssion is damaging, decelerating ﬁssion–fusion cycles may improve mitochondrial quality (Figge et al. 2012).\n",
      "Despite providing valuable insights, these previous at- tempts to link mitochondrial genetics and network dynamics— while important for breaking ground—have centered around complex computer simulations, making it difﬁcult to deduce general laws and principles. Here, we address this lack of a general theoretical framework linking mitochondrial dynam- ics and genetics. We take a simpler approach in terms of our model structure (Figure 1C), allowing us to derive explicit, interpretable, mathematical formulas which provide intuitive understanding, and give a direct account for the phenomena which are observed in our model (Figure 1D). This simpliﬁed approach ensures that our results hold for a range of variant model structures. Simpliﬁed approaches using stochastic modeling have shown success in understanding mitochondrial physiology from a purely genetic perspective (Chinnery and Samuels 1999; Capps et al. 2003; Johnston and Jones 2016). Our basic approach also differs from previous model- ing attempts, since our model is neutral with respect to genetics (no replicative advantage or selective mitophagy) and the mitochondrial network (no selective fusion). Evi- dence for negative selection of particular mtDNA mutations has been observed in vivo (Ye et al. 2014; Morris et al. 2017); we therefore extend our analysis to explore selectiv- ity in the context of mitochondrial quality control using our simpliﬁed framework.\n",
      "Here, we reveal the ﬁrst general mathematical principle linking (physical) network state and (genetic) heteroplasmy statistics (Figure 1D). Our models potentially allow rich in- teractions between mitochondrial genetic and network dy- namics, yet we ﬁnd that a simple link emerges. For a broad range of situations, the expansion of mtDNA mutants is strongly modulated by network state, such that the rate of increase of heteroplasmy variance, and the rate of accumu- lation of de novo mutation, is proportional to the fraction of unfused mitochondria. We discover that this result stems from the general notion that fusion shields mtDNAs from turnover, since autophagy of large fragments of the mito- chondrial network are unlikely, and consequently rescales time. Importantly, we used our model for network dynamics to show that heteroplasmy variance is independent of the absolute magnitude of the fusion and ﬁssion rates due to a separation of timescales between genetic and network processes (in contrast to Tam et al. 2015). Surprisingly, we ﬁnd the dependence of heteroplasmy statistics upon network\n",
      "D o w n o a d e d\n",
      "l\n",
      "f r o m h\n",
      "‘dno'slwapese//:sdyy\n",
      "t t\n",
      "p s : / /\n",
      "a c a d e m c . o u p . c o m g e n e\n",
      "i\n",
      "/ t i c s / a r t i c e 2 1 2 4 1 4 2 9 5 9 3 1 2 4 1 b y g u e s t l / / / / o n 1 3 A p r i l 2 0 2 4\n",
      "Sy Wild-type punt » Cc G Unfused (singleton) —)] Fused & mtDNA ©) > } mtDNA, W mtDNA, IM mitochondrion, S mitochondria, F i) Principal Network Processes @e@- ®@- B® Frissrir a>-@ ii) Genetic Processes S+S7F+F &® Wild-type mtDNA FoS &B Mutant mtDNA f \\ & - EF (Or) iv) Non-identity-changing Processes @ @-- BD Wet Mss Wet Me { s —-@ @rirsrir) \\ Q @— BD wiwssMr+Wr , i 2) @ @ @ ~ x) Ms + Ws > Mp +Wr V(h) © fs [h(1 — h)| iii) Network Cross-processes Probability, P(h) ow - BQ) F+POPF+FI 1 0.2 0.3 04 0.5 0.6 0.7 Heteroplasmy, h o Fraction Mitophagy MtDNA copy unfused, f,, rate, pL number, 72, Low High Low High Low High variance variance variance variance variance variance & & 0 ¥, ® @ ©) & oe 2 @ wae e 9 53o iS e “oP ® © & ge a oS ® ® Ses} |* | _J\\_ Heteroplasmy, h Heteroplasmy, h Heteroplasmy, h Heteroplasmy, h Heteroplasmy, h Heteroplasmy, h\n",
      "Sy Wild-type punt Cc G Unfused (singleton) —)] Fused & mtDNA ©) > } mtDNA, W mtDNA, IM mitochondrion, S mitochondria, F i) Principal Network Processes @e@- ®@- B® Frissrir a>-@ ii) Genetic Processes S+S7F+F FoS f \\ & - EF (Or)\n",
      "Figure 1 A simple model bridging mitochondrial networks and genetics yields a wide-reaching, analytically obtained description of heteroplasmy variance dynamics. (A) A population of cells from a tissue exhibit intercellular heterogeneity in mitochondrial content: both mutant load (heteroplasmy) and copy number. (B) Intercellular heterogeneity implies that heteroplasmy is described by a probability distribution. Cells above a threshold hetero- plasmy (h*, black dashed line) are thought to exhibit a pathological phenotype. The low-variance distribution (black line) has fewer cells above a pathological threshold heteroplasmy than the high-variance distribution (red line). Heteroplasmy is depicted as an approximately normal distribution, as this is the regime in which our approximations below hold: i.e., when the probability of ﬁxation is small. (C) The chemical reaction network we use to model the dynamics of mitochondrial DNA (see main text for a detailed description). mtDNAs are assigned a genetic state of mutant (M) or wild type (W), and a network state of singleton (i.e., unfused, S) or fused (F). (D) The central result of our work is, assuming that a cell at time t ¼ 0 is at its (deterministic) steady state, heteroplasmy variance ðVðhÞÞ approximately increases with time (t), mitophagy rate (m), and the fraction of mitochondria that are unfused ðfsÞ, and decreases with mtDNA copy number (n). Importantly, VðhÞ does not depend on the absolute magnitude of the ﬁssion–fusion rates. Also see Table S1 for a summary of our key ﬁndings.\n",
      "state arises when the mitochondrial population size is con- trolled through replication, and vanishes when it is con- trolled through mitophagy, shedding new light on the physiological importance of the mode of mtDNA control. We show that when fusion is selective, intermediate fusion: ﬁssion ratios are optimal for the clearance of mutated\n",
      "mtDNAs (in contrast to Mouli et al. 2009). When mitophagy is selective, complete fragmentation of the network results in the most effective elimination of mitochondrial mutants (in contrast to Mouli et al. 2009). We also conﬁrm that mitoph- agy and mitochondrial DNA copy number affect the rate of accumulation of de novo mutations (Johnston and Jones\n",
      "Mitochondrial Networks and Genetics\n",
      "D o w n o a d e d\n",
      "l\n",
      "f r o m h\n",
      "t t\n",
      "p s : / /\n",
      "a c a d e m c . o u p . c o m g e n e\n",
      "i\n",
      "/\n",
      "t i c s / a r t i c e 2 1 2 4 1 4 2 9 5 9 3 1 2 4 1 b y g u e s t l / / / / o n 1 3 A p r i l 2 0 2 4\n",
      "2016), see Supplemental Material, Table S1 for a summary of our key ﬁndings. We suggest that pharmacological interven- tions which promote fusion, slow mitophagy, and increase copy number earlier in development may slow the rate of accumulation of pathologically mutated cells, with implica- tions for mitochondrial disease and aging.\n",
      "Materials and Methods\n",
      "Stochastic modeling of the coupling between genetic and network dynamics of mtDNA populations\n",
      "Our modeling approach takes a chemical master equation perspective by combining a general model of neutral genetic drift (for instance, see Chinnery and Samuels 1999 and Johnston and Jones 2016) with a model of mitochondrial network dynamics. We seek to understand the inﬂuence of the mitochondrial network upon mitochondrial genetics. The network state itself is inﬂuenced by several factors including metabolic poise and the respiratory state of mitochondria (Szabadkai et al. 2006; Hoitzing et al. 2015; Mishra and Chan 2016), which we do not consider explicitly here. We consider the existence of two mitochondrial alleles, wild-type (W) and mutant (M), existing within a postmitotic cell with- out cell division, with mtDNAs undergoing turnover [or “relaxed replication” (Stewart and Chinnery 2015)]. mtDNAs exist within mitochondria, which undergo fusion and ﬁssion. We therefore assign mtDNAs a network state: fused (F) or unfused (we term “singleton,” S). This representation of the mitochondrial network allows us to include the effects of the mitochondrial network in a simple way, without the need to resort to a spatial model or consider the precise net- work structure, allowing us to make analytic progress and derive interpretable formulas in a more general range of situations.\n",
      "Our model can be decomposed into three notional blocks (Figure 1C). First, the principal network processes denote fusion and ﬁssion of mitochondria containing mtDNAs of the same allele\n",
      "XS 1 XS /g XF 1 XS /g XF /b\n",
      "(1)\n",
      "XF 1 XF XF 1 XF\n",
      "(2)\n",
      "XS; (3)\n",
      "where X denotes either a wild-type (W) or a mutant (M) mtDNA (therefore a set of chemical reactions analogous to Equations 1–3 exist for both DNA species). g and b are the stochastic rate constants for fusion and ﬁssion respectively.\n",
      "Second, mtDNAs are replicated and degraded through a set of reactions termed genetic processes. A central assumption is that all degradation of mtDNAs occur through mitophagy, and that only small pieces of the mitochondrial network are susceptible to mitophagy; for parsimony we take the limit of only the singletons being susceptible to mitophagy:\n",
      "1432 J. Aryaman et al.\n",
      "XS /l XF /l XS /m ∅;\n",
      "(4)\n",
      "XF 1 XF XF 1 XF\n",
      "(5)\n",
      "(6)\n",
      "where l and m are the replication and mitophagy rates, re- spectively, which are shared by both W and M resulting in a so-called “neutral” genetic model. Equation 6 denotes re- moval of the species from the system. The effect of allowing nonzero degradation of fused species is discussed in the Sup- plemental Material (see Equation S68 and Figure S3E). Rep- lication of a singleton changes the network state of the mtDNA into a fused species, since replication occurs within the same membrane-bound organelle. An alternative model of singletons which replicate into singletons, thereby associ- ating mitochondrial replication with ﬁssion (Lewis et al. 2016), leaves our central result (Figure 1D) unchanged (see Equation S67). The system may be considered neutral since both W and M possess the same replication and degra- dation rates per molecule of mtDNA at any instance in time. Finally, mtDNAs of different genotypes may interact through fusion via a set of reactions we term network cross-processes:\n",
      "WF 1 MS /g MF 1 WS /g WS 1 MS /g\n",
      "(7)\n",
      "WF 1 MF MF 1 WF WF 1 MF:\n",
      "(8)\n",
      "(9)\n",
      "Any fusion or ﬁssion event which does not involve the gen- eration or removal of a singleton leaves our system un- changed; we term such events as nonidentity-changing processes, which can be ignored in our system (see Rate renormalization in the Supplemental Material for a discus- sion of rate renormalization). We have neglected de novo mutation in the model description above (although we will consider de novo mutation using a modiﬁed inﬁnite sites Moran model below).\n",
      "We found that treating l as a constant led to instability in total copy number (see Constant rates yield unstable copy numbers for a model describing mtDNA genetic and network dynamics in the Supplemental Material), which is not credi- ble. We therefore favored a state-dependent replication rate such that copy number is controlled to a particular value, as has been done by previous authors (Chinnery and Samuels 1999; Capps et al. 2003; Johnston and Jones 2016). Allowing lower-case variables to denote the copy number of their re- spective molecular species, we will focus on a linear replica- tion rate of the form (Hoitzing 2017; Hoitzing et al. 2019):\n",
      "l ¼ l wT; mT ¼ m 1 b k 2 wT 1 dmT\n",
      "ð Þ ð ð ;ÞÞ (10)\n",
      "where wT ¼ ws 1 wf is the total wild-type copy number, and similarly for mT. The lower-case variables ws, wf , ms, and mf denote the copy numbers of the corresponding chemical spe- cies (WS, WF, MS, and MF). b is a parameter which determines\n",
      "D o w n o a d e d l f r o m h t t p s : / / a c a d e m c . o u p . c o m g e n e i /\n",
      "/ t i c s / a r t i c e 2 1 2 4 1 4 2 9 5 9 3 1 2 4 1 b y g u e s t l / / / / o n 1 3 A p r i l 2 0 2 4\n",
      "the strength with which total copy number is controlled to a target copy number, and k is a parameter which is indicative of (but not equivalent to) the steady-state copy number. d indicates the relative contribution of mutant mtDNAs to the control strength and is linked to the “maintenance of wild-type” hypothesis (Durham et al. 2007; Stewart and Chinnery 2015). When 0 # d , 1, and both mutant and wild-type species are present, mutants have a lower contri- bution to the birth rate than wild types. When wild types are absent, the population size will be larger than when there are no mutants: hence mutants have a higher carrying ca- pacity in this regime. We have modeled the mitophagy rate as constant per mtDNA. We do, however, explore relaxing this constraint below by allowing mitophagy to be a function of state, and also affect mutants differentially under quality control. l may be rewritten as l ¼ k1 1 k2wT 1 k3mT for constants ki, and so only consists of three independent pa- rameters. However we will retain l in the form of Equation 10 since the parameters m, b, k, and d have the distinct physiological meanings described above (Hoitzing 2017; Hoitzing et al. 2019). Furthermore, l may in general also depend on other cellular features such as mitochondrial re- active oxygen species. Here, we seek to explain mitochon- drial behavior under a simple set of governing principles, but our approach can naturally be combined with a descrip- tion of these additional factors to build a more comprehen- sive model. Analogs of this model (without a network) have been applied to mitochondrial systems (Chinnery and Samuels 1999; Capps et al. 2003). Overall, our simple model consists of 4 species ðWS; WF; MS; MFÞ, 6 independent parameters, and 15 reactions, and captures the central property that mitochondria fragment before degradation (Twig et al. 2008).\n",
      "Throughout this work, we define heteroplasmy as the mutant-allele fraction per cell of a mitochondrially encoded variant (Wonnapinij et al. 2008; Samuels et al. 2010; Aryaman et al. 2019): h(x) = (ms + my) /(ws + wp + ms + my), (11)\n",
      "where x ¼ ðws; wf ; ms; mf Þ is the state of the system (not to be confused with mitochondrial “respiratory states”). Hence, a heteroplasmy of h ¼ 1 denotes a cell with 100% mutant mtDNA (i.e., a homoplasmic cell in the mutant allele). Argu- ably, mutant-allele fraction would be a more precise descrip- tion of Equation 11 but we retain the use of heteroplasmy for consistency. To convert to a deﬁnition of heteroplasmy which is maximal when the mutant allele fraction is 50%, one may simply use the conversion 0:5 2 jhðxÞ 2 0:5j.\n",
      "Statistical analysis\n",
      "In Figure S3B and Figure S4, A–I, we compare Equation 13 and Equation S72 to stochastic simulations for various parameterizations and replication/degradation rates. To quantify the accuracy of these equations in predicting Vðh; tÞ, we deﬁne the following error metric e\n",
      "1- VR. Orn E,(V(A, t) sim) e= : (12)\n",
      "1- e=\n",
      "where _Vðh; tÞ is the time derivative of heteroplasmy variance with subscripts denoting theory (Th) and simulation (Sim). An expectation over time ðEtÞ is taken for the stochastic sim- ulations, whereas _Vðh; tÞ is a scalar quantity for Equation 13 and Equation S72.\n",
      "Data availability\n",
      "Code for simulations and analysis can be accessed at https:// GitHub.com/ImperialCollegeLondon/MitoNetworksGenetics. Supplemental material available at FigShare: https://doi.org/ 10.25386/genetics.8343830.\n",
      "Results\n",
      "Mitochondrial network state rescales the linear increase of heteroplasmy variance over time, independently of ﬁssion–fusion rate magnitudes\n",
      "We ﬁrst performed a deterministic analysis of the system presented in Equations 1–10 by converting the reactions into an analogous set of four coupled ordinary differential equa- tions (see Equations S29–S32) and choosing a biologically motivated approximate parameterization (which we will term the “nominal” parameterization, see Choice of nominal parametrization in the Supplemental Material and Table S2). Figure 2, A and B, show that copy numbers of each individual species change in time such that the state approaches a line of steady states (Equations S34–S36), as seen in other neutral genetic models (Capps et al. 2003; Hoitzing 2017). Upon reaching this line, total copy number remains constant (Fig- ure S2A) and the state of the system ceases to change with time. This is a consequence of performing a deterministic analysis, which neglects stochastic effects, and our choice of replication rate in Equation 10 which decreases with total copy number when wT 1 dmT . k; and vice versa, guiding the total population to a ﬁxed total copy number. Varying the ﬁssion (b) and fusion (g) rates revealed a negative linear relationship between the steady-state fraction of singletons and copy number (Figure S2B).\n",
      "We may also simulate the system in Equations 1–9 sto- chastically, using the stochastic simulation algorithm (Gillespie 1976), which showed that mean copy number is slightly perturbed from the deterministic prediction due to the inﬂuence of variance upon the mean (Grima et al. 2011; Hoitzing 2017) (Figure 2C). The stationarity of total copy number is a consequence of using d ¼ 1 for our nominal parameterization (i.e., the line of steady states is also a line of constant copy number). Choosing d 6¼ 1 results in a differ- ence in carrying capacities between the two species and non- stationarity of mean total copy number, as trajectories spread along the line of steady states to different total copy numbers. Copy number variance initially increases since trajectories are all initialized at the same state, but plateaus because\n",
      "Mitochondrial Networks and Genetics\n",
      "D o w n o a d e d\n",
      "l\n",
      "f r o m h\n",
      "‘dno'slwapese//:sdyy\n",
      "t t\n",
      "p s : / /\n",
      "a c a d e m c . o u p . c o m g e n e\n",
      "i\n",
      "/ t i c s / a r t i c e 2 1 2 4 1 4 2 9 5 9 3 1 2 4 1 b y g u e s t l / / / / o n 1 3 A p r i l 2 0 2 4\n",
      "A B 800 + 600 = 400 = 5 B 400 3 200 Trajectory ing Trajectory Initial condition Initia condition Final condition 200 Final condition 0| — Theory © Theory 250 500 750 1000 250 500 750 Wild-type, w, + wy Singletons, w, +m, E Mitophagy rate F Copy number © 0.75 yn = 259 n=0 oO O 1.50 -p,% = -483 o n=50 3 0.004) BF is un = -730 g 0.0020 n= 100 £ A 2.00 n,n = -978 £ =200 $ 0.003 $ 0.0015 = 300 é - @ 0.002 @ 0.0010 g g § 0.001 & 0.0005 z x 0.000 0.0000 0 200 400 0 200 400 Time (days) Time (days) C 1005 D — Deterministic Mean + 2SEM 3 1000} zB os0t0 — =. sg 2 “Seemenseeses| 20.3005 > a” Z 995 = 8 2 5 & 0.3000 @ ® Simulation oO S990) etemininic = sl 0.2995 0 ©6250 »«=«500~—«750 0 ©6250 «500-750 Time (days) Time (days) G Mutant control strength H Network rate ratio 0.005 9.005 | aaa 8 8 0.004 0.004 G S 50.003 = 0.003 5 E 8 0.002 8 0.002 3 a £ 2 2 0.001 2 0.001 = = 0.000 0.000 |eoeoossssss= 0 200 400 0 200 400 Time (days) Time (days)\n",
      "Figure 2 General mathematical principles linking heteroplasmy variance to network dynamics. (A) Wild-type and mutant copy numbers and (B) fused and unfused copy numbers both move toward a line of steady states under a deterministic model, as indicated by arrows. In stochastic simulation, (C) mean copy number is initially slightly perturbed from the deterministic treatment of the system and then remains constant, while (D) mean heteroplasmy remains invariant with time (see Equation S61). (E–H) We show that Equation 13 holds across many cellular circumstances: lines give analytic results, points are from stochastic simulation. Heteroplasmy variance behavior is successfully predicted for varying (E) mitophagy rate, (F) steady-state copy number, (G) mutation sensing, and (H) fusion rate. In H, fusion and ﬁssion rates are redeﬁned as g/g0 M; where M and R denote the ; b0 denote the nominal parameterizations of the fusion and ﬁssion rates, respectively (see relative magnitude and ratio of the network rates, and g0 Table S2). Figure S3D shows a sweep of M over the same logarithmic range when R ¼ 1. See Figure S4, A–I, and Table S3 for parameter sweeps numerically demonstrating the generality of the result for different mtDNA control modes.\n",
      "trajectories are constrained in their copy number to remain near the attracting line of steady states (Figure S3A). Mean heteroplasmy remains constant through time under this model (Figure 2D; see Birky et al. 1983). This is unsurprising since each species possesses the same replication and degra- dation rate, so neither species is preferred.\n",
      "Material). This yielded a stochastic differential equation for heteroplasmy, via Itô’s formula (Jacobs 2010). Upon forcing the state variables onto the steady-state line (Constable et al. 2016), we derived Equation S63, which may be approxi- mated for sufﬁciently short times as\n",
      "From stochastic simulations we observed that, for sufﬁ- ciently short times, heteroplasmy variance increases approx- imately linearly through time for a range of parameterizations (Figure 2, E–H), which is in agreement with recent single-cell oocyte measurements in mice (Burgstaller et al. 2018). Pre- vious work has also shown a linear increase in heteroplasmy variance through time for purely genetic models of mtDNA dynamics (see Johnston and Jones 2016). We sought to un- derstand the inﬂuence of mitochondrial network dynamics upon the rate of increase of heteroplasmy variance.\n",
      "To this end, we analytically explored the inﬂuence of mitochondrial dynamics on mtDNA variability. Assuming that the state of the system above is initialized at its deterministic steady state ðxðt ¼ 0Þ ¼ xssÞ, we took the limit of large mtDNA copy numbers (mtCNs), fast ﬁssion–fusion dynamics, and applied a second-order truncation of the Kramers–Moyal expansion (Gardiner 1985) to the chemical master equation describing the dynamics of the system (see Supplemental\n",
      "VR) =f) TATAO|A ROW]. 3)\n",
      "Here, VðhÞ is the variance of heteroplasmy, m is the mitoph- agy rate, nðxÞ is the total copy number, and fsðxÞ is the frac- tion of unfused (singleton) mtDNAs, and is thus a measure of the fragmentation of the mitochondrial network. xss is the (deterministic) steady state of the system. Equation 13 dem- onstrates that mtDNA heteroplasmy variance increases ap- proximately linearly with time (t) at a rate scaled by the fraction of unfused mitochondria, mitophagy rate, and in- verse population size. We ﬁnd that Equation 13 closely matches heteroplasmy variance dynamics from stochastic simulation, for sufﬁciently short times after initialization, for a variety of parameterizations of the system (Figure 2, E–H, and Figure S5).\n",
      "To our knowledge, Equation 13 reﬂects the ﬁrst analytical principle linking mitochondrial dynamics and the cellular\n",
      "1434 J. Aryaman et al.\n",
      "D o w n o a d e d l f r o m h t t p s : / / a c a d e m c . o u p . c o m g e n e i /\n",
      "/ t i c s / a r t i c e 2 1 2 4 1 4 2 9 5 9 3 1 2 4 1 b y g u e s t l / / / / o n 1 3 A p r i l 2 0 2 4\n",
      "population genetics of mtDNA variance. Its simple form al- lows several intuitive interpretations. As time progresses, replication and degradation of both species occurs, allowing the ratio of species to ﬂuctuate; hence we expect VðhÞ to increase with time according to random genetic drift (Figure 2, E–H). The rate of occurrence of replication/degradation events is set by the mitophagy rate m, since degradation events are balanced by replication rates to maintain popula- tion size; hence, random genetic drift occurs more quickly if there is a larger turnover in the population (Figure 2E). We expect VðhÞ to increase more slowly in large population sizes, since the birth of, e.g., one mutant in a large population in- duces a small change in heteroplasmy (Figure 2F). The factor of hð1 2 hÞ encodes the state dependence of heteroplasmy variance, exempliﬁed by the observation that if a cell is ini- tialized at h ¼ 0 or h ¼ 1, heteroplasmy must remain at its initial value (since the model above does not consider de novo mutation, see below) and so heteroplasmy variance is zero. Furthermore, the rate of increase of heteroplasmy variance is maximal when a cell’s initial value of heteroplasmy is 0.5. In Figure 2G, we show that Equation 13 is able to recapitulate the rate of heteroplasmy variance increase across different values of d, which are hypothesized to correspond to different replicative sensing strengths of different mitochondrial mu- tations (Hoitzing 2017). We also show in Figure S3, B and C, that Equation 13 is robust to the choice of feedback control strength b in Equation 10. nðxÞ, f ðxÞ, and hðxÞ in Equation 13 are not independent degrees of freedom in this model: they are functions of the state vector x, where x is determined by the parameterization and initial conditions of the model. Hence, the parameter sweeps in Figure 2, E–H, and Figure S3, B and C, also implicitly vary over these functions of state by varying the steady state xss.\n",
      "In Equation 6, we have made the important assumption that only unfused mitochondria can be degraded via mitoph- agy, as seen by Twig et al. (2008), hence the total propensity of mtDNA turnover is limited by the number of mtDNAs which are actually susceptible to mitophagy. Strikingly, we find that the dynamics of heteroplasmy variance are indepen- dent of the absolute rate of fusion and fission, only depending on the fraction of unfused mtDNAs at any particular point in time (see Figure 2H and Figure S3D). This observation, which contrasts with the model of Tam et al. (2013, 2015) (see Discussion), arises from the observation that mitochon- drial network dynamics are much faster than replication and degradation of mtDNA, by around a factor of B/ ~ 10° (see Table $2), resulting in the existence of a separation of time- scales between network and genetic processes. In the deriva- tion of Equation 13, we have assumed that fission—fusion rates are infinite, which simplifies V(h) into a form which is independent of the magnitude of the fission-fusion rate. A parameter sweep of the magnitude and ratio of the fission— fusion rates reveals that, if the fusion and fission rates are sufficiently small, Equation 13 breaks down and V(h) gains dependence upon the magnitude of these rates (see Figure S4A). This regime only appears, however, for network rates\n",
      "which are ~100-times smaller than the biologically moti- vated nominal parameterization shown in Figure 2, A-D, where the fission-fusion rate becomes comparable to the mitophagy rate. Since fission—fusion takes place on a faster timescale than mtDNA turnover, we may neglect this region of parameter space as being implausible.\n",
      "Equation 13 can be viewed as describing the “quasi-sta- tionary state” where the probability of extinction of either allele is negligible (Johnston and Jones 2016). On longer timescales, or if mtDNA half-life is short (Poovathingal et al. 2012), the probability of ﬁxation becomes appreciable. In this case, Equation 13 overestimates VðhÞ as heteroplasmy variance gradually becomes sublinear with time (see Figure S5, C and D). This is evident through inspection of Equation S63, which shows that cellular trajectories which reach h ¼ 0 or h ¼ 1 cease to diffuse in heteroplasmy space, and so het- increase indeﬁnitely. Conse- eroplasmy variance cannot quently, the depiction of heteroplasmy variance in Figure 1, B and D, as being approximately normally distributed corre- sponds to the regime in which our approximation holds, and is a valid subset of the behaviors displayed by heteroplasmy dynamics under more sophisticated models [e.g., the Kimura distribution (Kimura 1955; Wonnapinij et al. 2008)]. Further analytical developments may be possible to take into account extinction (e.g., see Wonnapinij et al. 2008 and Assaf and Meerson 2010). However, the linear regime for heteroplasmy variance has been observed to be a substantial component of mtDNA dynamics in, e.g., mouse oocytes (Burgstaller et al. 2018).\n",
      "The inﬂuence of mitochondrial dynamics upon heteroplasmy variance under different models of genetic mtDNA control\n",
      "To demonstrate the generality of this result, we explored several alternative forms of cellular mtDNA control (Johnston and Jones 2016). We found that when copy num- ber is controlled through the replication rate function [i.e., A = A(x), # = constant], when the fusion and fission rates were high and the fixation probability [P(h = 0) or P(h = 1)] was negligible, Equation 13 accurately described V(h) across all of the replication rates investigated (see Figure S4, A-F). The same mathematical argument to show Equation 13 for the replication rate in Equation 10 may be applied to these alternative replication rates where a closed-form solution for the deterministic steady state may be written down (see Deriving an ODE description of the mitochondrial network sys- tem in the Supplemental Material). Interestingly, when copy number is controlled through the degradation rate [ie., A = constant, w= y4(x)], heteroplasmy variance loses its de- pendence upon network state entirely and the f, term is lost from Equation 13 (see Equation $72 and Figure $4, G-I). A similar mathematical argument was applied to reveal how this dependence is lost (see Proof of heteroplasmy relation for linear feedback control in the Supplemental Material).\n",
      "To provide an intuitive account for why control in the replication rate vs. control in the degradation rate determines\n",
      "Mitochondrial Networks and Genetics\n",
      "D o w n o a d e d\n",
      "l\n",
      "f r o m h\n",
      "‘dno'slwapese//:sdyy\n",
      "t t\n",
      "p s : / /\n",
      "a c a d e m c . o u p . c o m g e n e\n",
      "i\n",
      "/ t i c s / a r t i c e 2 1 2 4 1 4 2 9 5 9 3 1 2 4 1 b y g u e s t l / / / / o n 1 3 A p r i l 2 0 2 4\n",
      "A <= n mtDNA ——> cee <—§ t! o Wait for ti ait for time tine ai fey = @) 7 ~ Exp(T’) O| , , eae 7 as t + T B c D : Santo a 3 «60 2 6), * 125) a= weoee® 53 s oo #- n= 1000 # 38 g : 2g 100 A- n= 1500 vaudk 38 ES 4)\" oe = 2000 act 6 g 40 324 i SE 75 0 g2 SE a2 _onnnensanene 25 —8 52 50 aes 5 i “ c - S 3 fr 2S eeee® § E 5 e f08 S E 25 aoooecccoes® : ° = Ou jaa = 0 Tresseseneneneeeoees 2 50 100 0 50 700 Time (years) Time (years) Time (years)\n",
      "Figure 3 Rate of de novo mutation accumulation is sensitive to the network state/mitophagy rate and copy number for a time-rescaled inﬁnite sites Moran model. (A) An inﬁnite sites Moran model where Q mutations occur per Moran step (see Equation 14). (B–D) Inﬂuence of our proposed intervention strategies. (B) Mean number of distinct mutations increases with the fraction of unfused mitochondria. This corresponds to a simple rescaling of time, so all but one of the parameterizations are shown in gray. (C) The mean number of mutations per mtDNA also increases with the fraction of unfused mitochondria. Inset shows that the mean number of mutations per mtDNA is independent of the number of mtDNAs per cell; values of n are the same as in D. (D) Mean number of mutations per cell increases according to the population size of mtDNAs. Standard error in the mean is too small to visualize, so error bars are neglected, given 103 realizations.\n",
      "whether or not heteroplasmy variance has network depen- dence, we investigated a time-rescaled form of the Moran process (see A modiﬁed Moran process may account for the alternative forms of heteroplasmy variance dynamics under dif- ferent models of genetic mtDNA control in the Supplemental Material). The Moran process is structurally much simpler than the model presented above, to the point of being un- realistic, in that the mitochondrial population size is con- strained to be constant between consecutive time steps. Despite this, the modiﬁed Moran process proved to be in- sightful. We ﬁnd that, when copy number is controlled through the replication rate, the absence of death in the fused subpopulation means the timescale of the system (being the time to the next death event) is proportional to fs. In contrast, when copy number is controlled through the degradation rate, the presence of a constant birth rate in the entire pop- ulation means the timescale of the system (being the time to the next birth event) is independent of fs (see Equation S84 and surrounding discussion).\n",
      "(n), and increases with the fraction of unfused mitochondria (termed singletons, fs), see Equation 13. Below, we explore how biological modulation of these variables inﬂuences the accumulation of mutations. We use this new insight to pro- pose three classes of strategy to control mutation accumula- tion and hence address associated issues in aging and disease, and discuss these strategies through the lens of existing bi- ological literature.\n",
      "Targeting network state against mutant expansions: To explore the role of the mitochondrial network in the accumu- lation of de novo mutations, we invoked an inﬁnite sites Moran model (Kimura 1969) (see Figure 3A). Single cells were modeled over time as having a ﬁxed mitochondrial copy number (n), and at each time step one mtDNA is randomly chosen for duplication and one (which can be the same) for removal. The individual replicated incurs Q de novo muta- tions, where Q is binomially distributed according to\n",
      "Q ~ Binomial(Lmtpna, 0), (14)\n",
      "Control strategies against mutant expansions\n",
      "In this study, we have argued that the rate of increase of heteroplasmy variance, and therefore the rate of accumula- tion of pathologically mutated cells within a tissue, increases with mitophagy rate (m), decreases with total mtCN per cell\n",
      "where Binomial ðN; pÞ is a binomial random variable with N trials and probability p of success. LmtDNA ¼ 16569 is the length of mtDNA in base pairs and h ¼ 5:6 3 1027 is the mutation rate per base pair per doubling (Zheng et al. 2006); hence each base pair is idealized to have an equal\n",
      "1436 J. Aryaman et al.\n",
      "D o w n o a d e d\n",
      "l\n",
      "f r o m h\n",
      "t t\n",
      "p s : / /\n",
      "a c a d e m c . o u p . c o m g e n e\n",
      "i\n",
      "/ t i c s / a r t i c e 2 1 2 4 1 4 2 9 5 9 3 1 2 4 1 b y g u e s t l / / / / o n 1 3 A p r i l 2 0 2 4\n",
      "probability of mutation upon replication. In Equation S83 we argue that when population size is controlled in the replica- tion rate, the interevent rate ðGÞ of the Moran process is effectively rescaled by the fraction of unfused mitochondria, i.e., G ¼ mnfs, which we apply here.\n",
      "Figure 3B shows that in the inﬁnite sites model, the con- sequence of Equation S83 is that the rate of accumulation of mutations per cell reduces as the mitochondrial network becomes more fused, as does the mean number of mutations per mtDNA (Figure 3C). These observations are intuitive: since fusion serves to shield the population from mitophagy, mtDNA turnover slows down, and therefore there are fewer opportunities for replication errors to occur per unit time. Different values of fs in Figure 3, B and C, therefore corre- spond to a rescaling of time, i.e., stretching of the time axis. The absolute number of mutations predicted in Figure 3B may overestimate the true number of mutations per cell (and of course depends on our choice of mutation rate), since a subset of mutations will experience either positive or neg- ative selection. However, quantiﬁcation of the number of distinct mitochondrial mutants in single cells remains under- explored, as most mutations will have a variant allele fraction close to 0 or 100% (Birky et al. 1983), which are challenging to measure, especially through bulk sequencing.\n",
      "A study by Chen et al. (2010) observed the effect of de- letion of two proteins which are involved in mitochondrial fusion (Mfn1 and Mfn2) in mouse skeletal muscle. Although knock-out studies present difﬁculties in extending their in- sights into the physiological case, the authors observed that fragmentation of the mitochondrial network induced severe depletion of mtCN (which we also observed in Figure S2B). Furthermore, the authors observed that the number of mu- tations per base pair increased upon fragmentation, which we also observed in the inﬁnite sites model where fragmen- tation effectively results in a faster turnover of mtDNA (Figure 3C).\n",
      "Our models predict that promoting mitochondrial fusion has a twofold effect: ﬁrst, it slows the increase of heteroplasmy variance (see Equation 13 and Figure 2H); second, it reduces the rate of accumulation of distinct mutations (see Figure 3, B and C). These two effects are both a consequence of mito- chondrial fusion rescaling the time to the next turnover event, and therefore the rate of random genetic drift. As a consequence, this simple model suggests that promoting fu- sion earlier in development (assuming mean heteroplasmy is low) could slow down the accumulation and spread of mito- chondrial mutations, and perhaps slow aging.\n",
      "If we assume that fusion is selective in favor of wild-type mtDNAs, which appears to be the case at least for some mutations under therapeutic conditions (Suen et al. 2010; Kandul et al. 2016), we predict that a balance between fusion and ﬁssion is the most effective means of removing mutant mtDNAs (see below), perhaps explaining why mitochondrial networks are often observed to exist as balanced between mitochondrial fu- sion and ﬁssion (Sukhorukov et al. 2012; Zamponi et al. 2018). In contrast, if selective mitophagy pathways are induced then\n",
      "promoting fragmentation is predicted to accelerate the clear- ance of mutants (see below).\n",
      "Targeting mitophagy rate against mutant expansions: Alterations in the mitophagy rate m have a comparable effect to changes in fs in terms of reducing the rate of heteroplasmy variance (see Equation 13) and the rate of de novo mutation (Figure 3, B and C) since they both serve to rescale time. Our theory therefore suggests that inhibition of basal mitophagy may be able to slow down the rate of random genetic drift, and perhaps healthy aging, by locking in low levels of heter- oplasmy. Indeed, it has been shown that mouse oocytes (Boudoures et al. 2017) as well as mouse hematopoietic stem cells (de Almeida et al. 2017) have comparatively low levels of mitophagy, which is consistent with the idea that these pluripotent cells attempt to minimize genetic drift by slowing down mtDNA turnover. A previous modeling study has also shown that mutation frequency increases with mitochondrial turnover (Poovathingal et al. 2009).\n",
      "Alternatively, it has also been shown that the presence of heteroplasmy, in genotypes which are healthy when present at 100%, can induce ﬁtness disadvantages (Acton et al. 2007; Sharpley et al. 2012; Bagwan et al. 2018). In cases where heteroplasmy itself is disadvantageous, especially in later life where such mutations may have already accumulated, accel- erating heteroplasmy variance increase to achieve ﬁxation of a species could be advantageous. However, this will not avoid cell-to-cell variability, and the physiological consequences for tissues of such mosaicism is unclear.\n",
      "Targeting copy number against mutant expansions: To investigate the role of mtCN on the accumulation of de novo mutations, we set fs ¼ 1 such that G ¼ mn (i.e., a standard Moran process). We found that varying mtCN did not affect the mean number of mutations per molecule of mtDNA (Fig- ure 3C, inset). However, as the population size becomes larger, the total number of distinct mutations increases ac- cordingly (Figure 3D). In contrast to our predictions, a recent study by Wachsmuth et al. (2016) found a negative correla- tion between mtCN and the number of distinct mutations in skeletal muscle. However, Wachsmuth et al. (2016) also found a correlation between the number of distinct mutations and age, in agreement with our model. Furthermore, the authors used partial regression to ﬁnd that age was more explanatory than mtCN in explaining the number of distinct mutations, suggesting age as a confounding variable to the inﬂuence of copy number. Our work shows that, in addition to age and mtCN, turnover rate and network state also inﬂu- ence the proliferation of mtDNA mutations. Therefore, one would ideally account for these four variables jointly, to fully constrain our model.\n",
      "A study of single neurons in the substantia nigra of healthy human individuals found that mtCN increased with age (Dölle et al. 2016). Furthermore, mice engineered to accumu- late mtDNA deletions through faulty mtDNA replication (Trifunovic et al. 2004) display compensatory increases in\n",
      "Mitochondrial Networks and Genetics\n",
      "D o w n o a d e d\n",
      "l\n",
      "f r o m h\n",
      "‘dno'slwapese//:sdyy\n",
      "t t\n",
      "p s : / /\n",
      "a c a d e m c . o u p . c o m g e n e\n",
      "i\n",
      "/ t i c s / a r t i c e 2 1 2 4 1 4 2 9 5 9 3 1 2 4 1 b y g u e s t l / / / / o n 1 3 A p r i l 2 0 2 4\n",
      "mtCN (Perier et al. 2013), which potentially explains the ability of these animals to resist neurodegeneration. It is pos- sible that the observed increase in mtCN in these two studies is an adaptive response to slow down random genetic drift (see Equation 13). In contrast, mtCN reduces with age in skeletal muscle (Wachsmuth et al. 2016), as well as in a number of other tissues such as pancreatic islets (Cree et al. 2008) and peripheral blood cells (Mengel-From et al. 2014). Given the beneﬁcial effects of increased mtCN in neurons, long-term increases in mtCN could delay other age-related pathological phenotypes.\n",
      "Optimal mitochondrial network conﬁgurations for mitochondrial quality control\n",
      "While the above models of mtDNA dynamics are neutral (i.e., mand w share the same replication and degradation rates), it is often proposed that damaged mitochondria may experi- ence a higher rate of degradation (Kim et al. 2007; Narendra et al. 2008). There are two principal ways in which selection may occur on mutant species. First, mutant mitochondria may be excluded preferentially from the mitochondrial network in a background of unbiased mitophagy. If this is the case, mu- tants would be unprotected from mitophagy for longer periods of time than wild types, and therefore be at greater hazard of degradation. We can alter the fusion rate (y) in the mutant analogs of Equations 1 and 2 and Equations 7-9 by writing yor/(1 +e) (15)\n",
      "for all fusion reactions involving one or more mutant mito- chondria where ef . 0. The second potential selective mech- anism we consider is selective mitophagy. In this case, the degradation rate of mutant mitochondria is larger than wild types, i.e., we modify the mutant degradation reaction to\n",
      "M(1+€m) Ms ——> & (16)\n",
      "for em . 0.\n",
      "In these two settings, we explore how varying the fusion rate for a given selectivity (ef and em) affects the extent of reduction in mean heteroplasmy. Figure 4A shows that, in the context of selective fusion ðef . 0Þ and nonselective mitophagy ðem ¼ 0Þ; the optimal strategy for clearance of mutants is to have an intermediate fusion:ﬁssion ratio. This was observed for all fusion selectivities investigated (see Figure S7). Intuitively, if the mitochondrial network is completely fused then, due to mitophagy only acting upon smaller mitochondrial units, mitophagy cannot occur, so mtDNA turnover ceases and heteroplasmy remains at its ini- tial value. In contrast, if the mitochondrial network com- pletely ﬁssions, there is no mitochondrial network to allow the existence of a quality control mechanism: both mutants and wild types possess the same probability per unit time of degradation, so mean heteroplasmy does not change. Since both extremes result in no clearance of mutants, the optimal strategy must be to have an intermediate fusion:ﬁssion ratio.\n",
      "1438 J. Aryaman et al.\n",
      "In contrast, in Figure 4B, in the context of nonselective fusion ðef ¼ 0Þ and selective mitophagy ðem . 0Þ, the optimal strategy for clearance of mutants is to completely ﬁssion the mitochondrial network. Intuitively, if mitophagy is selective, then the more mtDNAs which exist in fragmented organelles, the greater the number of mtDNAs which are susceptible to selective mitophagy, the greater the total rate of selective mitophagy, and the faster the clearance of mutants.\n",
      "Discussion\n",
      "In this work, we sought to unify our understanding of three aspects of mitochondrial physiology—the mitochondrial net- work state, mitophagy, and copy number—with genetic dy- namics. The principal virtue of our modeling approach is its simpliﬁed nature, which makes general, analytic, quantita- tive insights available for the ﬁrst time. In using parsimonious models, we are able to make the ﬁrst analytic link between the mitochondrial network state and heteroplasmy dynam- ics. This is in contrast to other computational studies in the ﬁeld, whose structural complexity makes analytic progress difﬁcult and accounting for their predicted phenomena cor- respondingly more challenging.\n",
      "Our bottom-up modeling approach allows for potentially complex interactions between the physical (network) and genetic mitochondrial states of the cell, yet a simple connec- tion emerged from our analysis. We found, for a wide class of models of postmitotic cells, that the rate of linear increase of heteroplasmy variance is modulated in proportion to the fraction of unfused mitochondria (see Equation 13). The gen- eral notion that mitochondrial fusion shields mtDNAs from turnover, and consequently serves to rescale time, emerges from our analysis. This rescaling of time only holds when mitochondrial copy numbers are controlled through a state- dependent replication rate, and vanishes if copy numbers are controlled through a state-dependent mitophagy rate. We have presented the case of copy-number control in the repli- cation rate as being a more intuitive model than control in the degradation rate. The former has the interpretation of bio- genesis being varied to maintain a constant population size, with all mtDNAs possessing a characteristic lifetime. The lat- ter has the interpretation of all mtDNA molecules being rep- licated with a constant probability per unit time, regardless of how large or small the population size is, and changes in mitophagy acting to regulate population size. Such a control strategy seems wasteful in the case of stochastic ﬂuctuations resulting in a population size which is too large, and poten- tially slow if ﬂuctuations result in a population size which is too small. Furthermore, control in the replication rate means that the mitochondrial network state may act as an additional axis for the cell to control heteroplasmy variance (Figure 2) and the rate of accumulation of de novo mutations (Figure 3, B and C). Single-mtDNA tracking through confocal micros- copy in conjunction with mild mtDNA depletion could shed light on whether the probability of degradation per unit time per mtDNA varies when mtCN is perturbed, and therefore\n",
      "D o w n o a d e d\n",
      "l\n",
      "f r o m h\n",
      "‘dno'slwapese//:sdyy\n",
      "t t\n",
      "p s : / /\n",
      "a c a d e m c . o u p . c o m g e n e\n",
      "i\n",
      "/ t i c s / a r t i c e 2 1 2 4 1 4 2 9 5 9 3 1 2 4 1 b y g u e s t l / / / / o n 1 3 A p r i l 2 0 2 4\n",
      "A 2.0 0.30 B 0 1:8 8 1.6 6 1.4 0.259 4 12 S 4 12 £ 08 u £8 5 06 020- § 06 3 0.4 S 304 is 0.2 Ee 3 0.2 $ 00 0158 £00 3-02 a 8 £6 a 236 oO -U: D o | 5-08 0102 S08 8-10 s 8-10 1.2 ® 2 -1.4 0.05= 4 ‘6 ‘6 18 8 2.0 0.00 0 cs Log10 fusion selectivity, log, (es) 7 0.30 { “ o 0.00 SOMOMOMOMONMONG Logi 0 mitophagy selectivity, logio(€m) ° ° ° a a iy ° a So Mean heteroplasmy at t = 1 o 5 a\n",
      "Figure 4 Selective fusion implies interme- diate fusion rates are optimal for mutant clearance, whereas selective mitophagy implies complete ﬁssion is optimal. Nu- merical exploration of the shift in mean heteroplasmy for varying fusion:ﬁssion ra- tio, across different selectivity strengths. Stochastic simulations for mean hetero- plasmy, evaluated at 1000 days, with an initial condition of h ¼ 0:3 and n ¼ 1000; the state was initialized on the steady- state line for the case of ef ¼ em ¼ 0, for 104 iterations. (A) For selective fusion (see Equation 15), for each value of fusion se- lectivity ðef Þ, the fusion rate (g) was varied relative to the nominal parameterization (see Table S2). When ef . 0, the largest reduction in mean heteroplasmy occurs at intermediate values of the fusion rate; a deterministic treatment reveals this to be true for all fusion selectivities investigated (see Figure S7). (B) For selective mitophagy (see Equation 16), when mitophagy selectivity em . 0, a lower mean heteroplasmy is achieved and the lower the fusion rate (until mean heteroplasmy = 0 is achieved). Hence, complete ﬁssion is the optimal strategy for selective mitophagy.\n",
      "provide evidence for or against these two possible control strategies.\n",
      "Our observations provide a substantial change in our un- derstanding of mitochondrial genetics, as it suggests that the mitochondrial network state, in addition to mitochondrial turnover and copy number, must be accounted for to predict the rate of spread of mitochondrial mutations in a cellular population. Crucially, through building a model that incorpo- rates mitochondrial dynamics, we find that the dynamics of heteroplasmy variance is independent of the absolute rate of fission-fusion events, since network dynamics occur ~10%-times faster than mitochondrial turnover, inducing a separation of timescales. The independence of the absolute rate of network dynamics makes way for the possibility of gaining information about heteroplasmy dynamics via the mitochondrial network, without the need to quantify abso- lute fission-fusion rates (for instance through confocal mi- crographs to quantify the fraction of unfused mitochondria). By linking with classical statistical genetics, we find that the mitochondrial network also modulates the rate of accumula- tion of de novo mutations, also due to the fraction of unfused mitochondria serving to rescale time. We find that, in the context of mitochondrial quality control through selective fusion, an intermediate fusion:fission ratio is optimal due to the finite selectivity of fusion. This latter observation perhaps provides an indication for the reason why we observe mito- chondrial networks in an intermediate fusion state under physiological conditions (Sukhorukov et al. 2012; Zamponi et al. 2018).\n",
      "We have, broadly speaking, considered neutral models of mtDNA genetic dynamics. It is, however, typically suggested that increasing the rate of mitophagy promotes mtDNA quality control and therefore shrinks the distribution of heteroplas- mies toward 0% mutant (see Equations 15 and 16). If mitoph- agy is able to change mean heteroplasmy, then a neutral\n",
      "genetic model appears to be inappropriate, as mutants expe- rience a higher rate of degradation. Biological examples of non-neutral behavior include the observation that the PINK1/Parkin pathway can select against deleterious mtDNA mutations in vitro (Suen et al. 2010) and in vivo (Kandul et al. 2016), as has repression of the mTOR pathway via treatment with rapamycin (Dai et al. 2013; Kandul et al. 2016). However, the necessity of performing a genetic/pharmacological inter- vention to clear mutations via this pathway suggests that the ability of tissues to selectively remove mitochondrial mutants under physiological conditions is weak. Consequently, neutral models such as our own are useful in understanding how the distribution of heteroplasmy evolves through time under phys- iological conditions. Indeed, it has been recently shown that mitophagy is basal (McWilliams et al. 2016) and can proceed independently of PINK1 in vivo (McWilliams et al. 2018), per- haps suggesting that mitophagy has nonselective aspects— although this is yet to be veriﬁed conclusively.\n",
      "We have paid particular attention to the case of postmitotic tissues, since these tissues are important for understanding the role of mitochondrial mutations in healthy aging (Khrapko and Vijg 2009; Kauppila et al. 2017). A typical rate of increase of heteroplasmy variance predicted by Equa- tion 13 given our nominal parameterization (Table S2) is V'(h)/t = V(h)/(E(h)(1 — E(h))t) = 2uf,/n + 2.3 X 10-5 day~! (f, = 0.5,n = 1000). This value accounts for the ac- cumulation of heteroplasmy variance which is attributable to turnover of the mitochondrial population in a postmitotic cell. However, in the most general case, cell division is also able to induce substantial heteroplasmy variance. For exam- ple, V’(h)/t has been measured in model organism germlines to be ~9 x 10-4 day~! in Drosophila (Solignac et al. 1987; Johnston and Jones 2016), 9 x 10-4 day~! in NZB/BALB mice (Wai et al. 2008; Wonnapinij et al. 2008; Johnston and Jones 2016), and 2 x 10-4 day~! in single Lehsten (LE)\n",
      "Mitochondrial Networks and Genetics\n",
      "D o w n o a d e d\n",
      "l\n",
      "f r o m h\n",
      "t t\n",
      "p s : / /\n",
      "a c a d e m c . o u p . c o m g e n e\n",
      "i\n",
      "/ t i c s / a r t i c e 2 1 2 4 1 4 2 9 5 9 3 1 2 4 1 b y g u e s t l / / / / o n 1 3 A p r i l 2 0 2 4\n",
      "and Hohenberg (HB) mouse oocytes (Burgstaller et al. 2018). We see that these rates of increase in heteroplasmy variance are approximately an order of magnitude larger than predic- tions from our model of purely quiescent turnover, given our nominal parameterization. While larger mitophagy rates may also potentially induce larger values for V’(h)/t (see Poovathingal et al. 2012, and Figure S5C, corrsponding to V'(h)/t ¥ 3.5X 10-4 day~}) it is clear that partitioning noise [or “vegetative segregation” (Stewart and Chinnery 2015)] is also an important source of variance in hetero- plasmy dynamics (Johnston et al. 2015). Quantification of heteroplasmy variance in quiescent tissues remains an under- explored area, despite its importance in understanding healthy aging (Kauppila et al. 2017; Aryaman et al. 2019).\n",
      "Our ﬁndings reveal some apparent differences with pre- vious studies which link mitochondrial genetics with network dynamics (see Table S4). First, Tam et al. (2013, 2015) found that slower ﬁssion–fusion dynamics resulted in larger in- creases in heteroplasmy variance with time, in contrast to Equation 13 which only depends on fragmentation state and not absolute network rates. The simulation approach of Tam et al. (2013, 2015) allowed for mitophagy to act on whole mitochondria, where mitochondria consist of multiple mtDNAs. Faster ﬁssion–fusion dynamics tended to form het- eroplasmic mitochondria, whereas slower dynamics formed homoplasmic mitochondria. It is intuitive that mitophagy of a homoplasmic mitochondrion induces a larger shift in hetero- plasmy than mitophagy of a single mtDNA, hence slower network dynamics form more homoplasmic mitochondria. However, this apparent difference with our ﬁndings can nat- urally be resolved if we consider the regions in parameter space where the ﬁssion–fusion rate is much larger than the mitophagy rate, as is empirically observed to be the case (Cagalinec et al. 2013; Burgstaller et al. 2014a). If the ﬁssion– fusion rates are sufﬁciently large to ensure heteroplasmic mitochondria, then further increasing the ﬁssion–fusion rate is unlikely to have an impact on heteroplasmy dynamics. Hence, this ﬁnding is potentially compatible with our study, although future experimental studies investigating intrami- tochondrial heteroplasmy would help constrain these mod- els. Tam et al. (2015) also found that fast ﬁssion–fusion rates could induce an increase in mean heteroplasmy, in contrast to Figure 2D which shows that mean heteroplasmy is constant with time. We may speculate that the key difference between our treatment and that of Tam et al. (2013, 2015) is the in- clusion of cellular subcompartments which induces spatial effects which we do not consider here. The uncertainty in accounting for the phenomena observed in such complex models highlights the virtues of a simpliﬁed approach which may yield interpretable laws and principles through analytic treatment.\n",
      "The study of Mouli et al. (2009) suggested that, in the context of selective fusion, higher fusion rates are optimal. This initially seems to contrast with our ﬁnding which states that intermediate fusion rates are optimal for the clearance of mutants (Figure 4A). However, the high fusion rates in that\n",
      "1440 J. Aryaman et al.\n",
      "study do not correspond directly to the highly fused state in our study. Fission automatically follows fusion in Mouli et al. (2009), ensuring at least partial fragmentation, and the high fusion rates for which they identify optimal clearing are an order of magnitude lower than the highest fusion rate they consider. In the case of complete fusion, mitophagy cannot occur in the model of Mouli et al. (2009), so there is no mechanism to remove dysfunctional mitochondria. It is per- haps more accurate to interpret the observations of Mouli et al. (2009) as implying that selective fusion shifts the opti- mal fusion rate higher, when compared to the case of selec- tive mitophagy alone. Therefore, the study of Mouli et al. (2009) is compatible with Figure 4A. Furthermore, Mouli et al. (2009) also found that when fusion is nonselective and mitophagy is selective, intermediate fusion rates are op- timal, whereas Figure 4B shows that complete fragmentation is optimal for clearance of mutants. Optimality of intermedi- ate fusion in the context of selective mitophagy in the model of Mouli et al. (2009) likely stems from two aspects of their model: (1) mitochondria consist of several units which may or may not be functional, and (2) the sigmoidal relationship between number of functional units per mitochondrion and mitochondrial “activity” (the metric by which optimality is measured). Points (1) and (2) imply that small numbers of dysfunctional mitochondrial units have very little impact on mitochondrial activity, so fusion may boost total mitochon- drial activity in the context of small amounts of mutation. So while Figure 4B remains plausible in light of the study of Mouli et al. (2009) if reduction of mean heteroplasmy is the objective of the cell, it is also plausible that nonlinearities in mitochondrial output under cellular fusion (Hoitzing et al. 2015) result in intermediate fusion being optimal in terms of energy output in the context of nonselective fusion and se- lective mitophagy. Future experimental studies quantifying the importance of selective mitophagy under physiological conditions would be beneﬁcial for understanding hetero- plasmy variance dynamics. The ubiquity of heteroplasmy (Payne et al. 2012; Ye et al. 2014; Morris et al. 2017) suggests that a neutral-drift approach to mitochondrial genetics may be justiﬁed, which contrasts with the studies of Tam et al. (2013, 2015) and Mouli et al. (2009) which focus purely on the selective effects of mitochondrial networks.\n",
      "To fully test our model, further single-cell longitudinal studies are required. For instance, the study by Burgstaller et al. (2018) found a linear increase in heteroplasmy variance through time in single oocytes. Our work here has shown that measurement of the network state, as well as turnover and copy number, are required to account for the rate of increase in heteroplasmy variance. Joint longitudinal measurements of fs, m, and n, with heteroplasmy quantiﬁcation, would allow veriﬁcation of Equation 13 and aid in determining the extent to which neutral genetic models are explanatory. This could be achieved, for instance, using the mito-QC mouse (McWilliams et al. 2016) which allows visualization of mitophagy and mitochondrial architecture in vivo. Measure- ment of fs, m, and n, followed by, e.g., destructive, single-cell,\n",
      "D o w n o a d e d\n",
      "l\n",
      "f r o m h\n",
      "‘dno'slwapese//:sdyy\n",
      "t t\n",
      "p s : / /\n",
      "a c a d e m c . o u p . c o m g e n e\n",
      "i\n",
      "/ t i c s / a r t i c e 2 1 2 4 1 4 2 9 5 9 3 1 2 4 1 b y g u e s t l / / / / o n 1 3 A p r i l 2 0 2 4\n",
      "whole-genome sequencing of mtDNA would allow validation of how m, n, and fs inﬂuence VðhÞ and the rate of de novo mutation (see Figure 3). One difﬁculty is sequencing errors induced through, e.g., PCR, which hampers our ability to accurately measure mtDNA mutation within highly hetero- geneous samples (Woods et al. 2018). Morris et al. (2017) have suggested that single cells are highly heterogeneous in mtDNA mutation, with each mitochondrion possessing 3.9 single-nucleotide variants on average. Error-correction strat- egies during sequencing may pave the way toward high- accuracy mtDNA sequencing (Salk et al. 2018; Woods et al. 2018), and allow us to better constrain models of heteroplasmy dynamics.\n",
      "Acknowledgments\n",
      "We thank Hanne Hoitzing, Thomas McGrath, Abhishek Deshpande, and Ferdinando Insalata for useful discussions. Simulations were performed using the Imperial College High Performance Computing Service. J.A. acknowledges grant support from the Biotechnology and Biological Sciences Research Council (BB/J014575/1) and the Medical Research Council Mitochondrial Biology Unit (MC_UP_1501/2). N.S.J. acknowledges grant support from the British Heart Founda- tion (RE/13/2/30182) and Engineering and Physical Sciences Research Council (EP/N014529/1). I.G.J. acknowledges funding from European Research Council StG 805046 (EvoConBiO) and a Turing fellowship from the Alan Turing Institute.\n",
      "Literature Cited\n",
      "I. Lai, X. Shang, A. Jurisicova, and R. Casper, 2007 Neutral mitochondrial heteroplasmy alters physiological function in mice. Biol. Reprod. 77: 569–576. https://doi.org/ 10.1095/biolreprod.107.060806\n",
      "Aryaman, J., I. G. Johnston, and N. S. Jones, 2017 Mitochondrial DNA density homeostasis accounts for a threshold effect in a cybrid model of a human mitochondrial disease. Biochem. J. 474: 4019–4034. https://doi.org/10.1042/BCJ20170651 Aryaman, J., I. G. Johnston, and N. S. Jones, 2019 Mitochondrial heterogeneity. Front. Genet. 9: 718. https://doi.org/10.3389/ fgene.2018.00718\n",
      "Assaf, M., and B. Meerson, 2010 Extinction of metastable stochas- tic populations. Phys. Rev. E Stat. Nonlin. Soft Matter Phys. 81: 021116. https://doi.org/10.1103/PhysRevE.81.021116\n",
      "Bagwan, N., E. Bonzon-Kulichenko, E. Calvo, A. V. Lechuga-Vieco, S. Michalakopoulos et al., 2018 Comprehensive quantiﬁcation of the modiﬁed proteome reveals oxidative heart damage in mitochondrial heteroplasmy. Cell Rep. 23: 3685–3697.e4. https://doi.org/10.1016/j.celrep.2018.05.080\n",
      "Birky, C. W., T. Maruyama, and P. Fuerst, 1983 An approach to population and evolutionary genetic theory for genes in mitochon- dria and chloroplasts, and some results. Genetics 103: 513–527. Boudoures, A. L., J. Saben, A. Drury, S. Scheaffer, Z. Modi et al., 2017 Obesity-exposed oocytes accumulate and transmit dam- aged mitochondria due to an inability to activate mitophagy. Dev. Biol. 426: 126–138. https://doi.org/10.1016/j.ydbio. 2017.04.005\n",
      "Burgstaller, J. P., I. G. Johnston, N. S. Jones, J. Albrechtová, T. Kolbe et al., 2014a MtDNA segregation in heteroplasmic tissues\n",
      "is common in vivo and modulated by haplotype differences and developmental stage. Cell Rep. 7: 2031–2041. https://doi.org/ 10.1016/j.celrep.2014.05.020\n",
      "Burgstaller, J. P., I. G. Johnston, and J. Poulton, 2014b Mitochondrial DNA disease and developmental implications for reproductive strat- egies. Mol. Hum. Reprod. 21: 11–22. https://doi.org/10.1093/ molehr/gau090\n",
      "Burgstaller, J. P., T. Kolbe, V. Havlicek, S. Hembach, J. Poulton et al., 2018 Large-scale genetic analysis reveals mammalian mtDNA heteroplasmy dynamics and variance increase through lifetimes and generations. Nat. Commun. 9: 2488. https:// doi.org/10.1038/s41467-018-04797-2\n",
      "Cagalinec, M., D. Saﬁulina, M. Liiv, J. Liiv, V. Choubey et al., 2013 Principles of the mitochondrial fusion and ﬁssion cycle in neurons. J. Cell Sci. 126: 2187–2197. https://doi.org/10.1242/ jcs.118844\n",
      "Capps, G. J., D. C. Samuels, and P. F. Chinnery, 2003 A model of the nuclear control of mitochondrial DNA replication. J. Theor. Biol. 221: 565–583. https://doi.org/10.1006/jtbi.2003.3207 Chen, H., M. Vermulst, Y. E. Wang, A. Chomyn, T. A. Prolla et al., 2010 Mitochondrial fusion is required for mtDNA stability in skeletal muscle and tolerance of mtDNA mutations. Cell 141: 280–289. https://doi.org/10.1016/j.cell.2010.02.026\n",
      "Chinnery, P. F., and D. C. Samuels, 1999 Relaxed replication of mtDNA: a model with implications for the expression of disease. Am. J. Hum. Genet. 64: 1158–1165. https://doi.org/10.1086/ 302311\n",
      "Constable, G. W., T. Rogers, A. J. McKane, and C. E. Tarnita, 2016 Demographic noise can reverse the direction of deter- ministic selection. Proc. Natl. Acad. Sci. USA 113: E4745– E4754. https://doi.org/10.1073/pnas.1603693113\n",
      "Cree, L., S. Patel, A. Pyle, S. Lynn, D. Turnbull et al., 2008 Age- related decline in mitochondrial DNA copy number in isolated human pancreatic islets. Diabetologia 51: 1440–1443. https:// doi.org/10.1007/s00125-008-1054-4\n",
      "Dai, Y., K. Zheng, J. Clark, R. H. Swerdlow, S. M. Pulst et al., 2013 Rapamycin drives selection against a pathogenic hetero- plasmic mitochondrial DNA mutation. Hum. Mol. Genet. 23: 637–647. https://doi.org/10.1093/hmg/ddt450\n",
      "de Almeida, M. J., L. L. Luchsinger, D. J. Corrigan, L. J. Williams, and H. W. Snoeck, 2017 Dye-independent methods reveal elevated mitochondrial mass in hematopoietic stem cells. Cell Stem Cell 21: 725–729.e4. https://doi.org/10.1016/j.stem.2017.11.002 Dölle, C., I. Flønes, G. S. Nido, H. Miletic, N. Osuagwu et al., 2016 Defective mitochondrial DNA homeostasis in the sub- stantia nigra in Parkinson disease. Nat. Commun. 7: 13548. https://doi.org/10.1038/ncomms13548\n",
      "Durham, S. E., D. C. Samuels, L. M. Cree, and P. F. Chinnery, 2007 Normal levels of wild-type mitochondrial DNA maintain cytochrome c oxidase activity for two pathogenic mitochondrial DNA mutations but not for m.3243A/G. Am. J. Hum. Genet. 81: 189–195. https://doi.org/10.1086/518901\n",
      "Elson, J., D. Samuels, D. Turnbull, and P. Chinnery, 2001 Random intracellular drift explains the clonal expansion of mitochondrial DNA mutations with age. Am. J. Hum. Genet. 68: 802–806. https://doi.org/10.1086/318801\n",
      "Figge, M. T., A. S. Reichert, M. Meyer-Hermann, and H. D. Osiewacz, 2012 Deceleration of fusion–ﬁssion cycles improves mitochon- drial quality control during aging. PLoS Comput. Biol. 8: e1002576. https://doi.org/10.1371/journal.pcbi.1002576\n",
      "Gardiner, C., 1985 Stochastic Methods: A Handbook for the Natural and Social Sciences (Springer Series in Synergetics). Springer- Verlag, Berlin.\n",
      "Gillespie, D. T., 1976 A general method for numerically simulat- ing the stochastic time evolution of coupled chemical reactions. J. Comput. Phys. 22: 403–434. https://doi.org/10.1016/0021- 9991(76)90041-3\n",
      "Mitochondrial Networks and Genetics\n",
      "D o w n o a d e d\n",
      "l\n",
      "f r o m h\n",
      "t t\n",
      "p s : / /\n",
      "a c a d e m c . o u p . c o m g e n e\n",
      "i\n",
      "/ t i c s / a r t i c e 2 1 2 4 1 4 2 9 5 9 3 1 2 4 1 b y g u e s t l / / / / o n 1 3 A p r i l 2 0 2 4\n",
      "Grima, R., P. Thomas, and A. V. Straube, 2011 How accurate are the nonlinear chemical Fokker-Planck and chemical Langevin equations? J. Chem. Phys. 135: 084103. https://doi.org/10.1063/ 1.3625958\n",
      "Hoitzing, H., 2017 Controlling mitochondrial dynamics: popula- tion genetics and networks. Ph.D. Thesis, Imperial College Lon- don, London.\n",
      "Hoitzing, H., I. G. Johnston, and N. S. Jones, 2015 What is the function of mitochondrial networks? A theoretical assessment of hypotheses and proposal for future research. BioEssays 37: 687– 700. https://doi.org/10.1002/bies.201400188.\n",
      "Hoitzing, H., P. A. Gammage, I. G. Johnston, M. Minczuk, and N. S. Jones, 2019 Energetic costs of cellular and therapeutic control of stochastic mitochondrial DNA populations. PLoS Comput Biol 15: e1007023.https://doi.org/10.1371/journal.pcbi.1007023 Jacobs, K., 2010 Stochastic Processes for Physicists: Understanding Noisy Systems. Cambridge University Press, Cambridge, UK. https://doi.org/10.1017/CBO9780511815980\n",
      "Johnston, I. G., 2019 Tension and resolution: dynamic, evolving populations of organelle genomes within plant cells. Mol. Plant 12: 764–783. https://doi.org/10.1016/j.molp.2018.11.002 Johnston, I. G., and N. S. Jones, 2016 Evolution of cell-to-cell variability in stochastic, controlled, heteroplasmic mtDNA pop- ulations. Am. J. Hum. Genet. 99: 1150–1162. https://doi.org/ 10.1016/j.ajhg.2016.09.016\n",
      "Johnston, I. G., J. P. Burgstaller, V. Havlicek, T. Kolbe, T. Rülicke et al., 2015 Stochastic modelling, bayesian inference, and new in vivo measurements elucidate the debated mtDNA bottleneck mechanism. eLife 4: e07464. https://doi.org/10. 7554/eLife.07464\n",
      "Kandul, N. P., T. Zhang, B. A. Hay, and M. Guo, 2016 Selective removal of deletion-bearing mitochondrial DNA in heteroplas- mic drosophila. Nat. Commun. 7: 13100. https://doi.org/ 10.1038/ncomms13100\n",
      "Kauppila, T. E., J. H. Kauppila, and N.-G. Larsson, 2017 Mammalian mitochondria and aging: an update. Cell Metab. 25: 57–71. https://doi.org/10.1016/j.cmet.2016.09.017\n",
      "Khrapko, K., and J. Vijg, 2009 Mitochondrial DNA mutations and aging: devils in the details? Trends Genet. 25: 91–98. https:// doi.org/10.1016/j.tig.2008.11.007\n",
      "Kim, I., S. Rodriguez-Enriquez, and J. J. Lemasters, 2007 Selective degradation of mitochondria by mitophagy. Arch. Biochem. Bio- phys. 462: 245–253. https://doi.org/10.1016/j.abb.2007.03.034 Kimura, M., 1955 Solution of a process of random genetic drift with a continuous model. Proc. Natl. Acad. Sci. USA 41: 144– 150. https://doi.org/10.1073/pnas.41.3.144\n",
      "Kimura, M., 1969 The number of heterozygous nucleotide sites maintained in a ﬁnite population due to steady ﬂux of muta- tions. Genetics 61: 893–903.\n",
      "Kowald, A., and T. B. Kirkwood, 2013 Mitochondrial mutations and aging: random drift is insufﬁcient to explain the accumula- tion of mitochondrial deletion mutants in short-lived animals. Aging Cell 12: 728–731. https://doi.org/10.1111/acel.12098 Kowald, A., and T. B. Kirkwood, 2014 Transcription could be the key to the selection advantage of mitochondrial deletion mu- tants in aging. Proc. Natl. Acad. Sci. USA 111: 2972–2977. https://doi.org/10.1073/pnas.1314970111\n",
      "Kowald, A., and T. Kirkwood, 2018 Resolving the enigma of the clonal expansion of mtdna deletions. Genes (Basel) 9: 126. https://doi.org/10.3390/genes9030126\n",
      "Kowald, A., and E. Klipp, 2014 Mathematical models of mitochon- drial aging and dynamics. Prog. Mol. Biol. Transl. Sci. 127: 63– 92. https://doi.org/10.1016/B978-0-12-394625-6.00003-9\n",
      "Lewis, S. C., L. F. Uchiyama, and J. Nunnari, 2016 ER-mitochon- dria contacts couple mtDNA synthesis with mitochondrial divi- sion in human cells. Science 353: aaf5549. https://doi.org/ 10.1126/science.aaf5549\n",
      "1442 J. Aryaman et al.\n",
      "Li, M., R. Schröder, S. Ni, B. Madea, and M. Stoneking, 2015 Extensive tissue-related and allele-related mtDNA heter- oplasmy suggests positive selection for somatic mutations. Proc. Natl. Acad. Sci. USA 112: 2491–2496. https://doi.org/10.1073/ pnas.1419651112\n",
      "Lieber, T., S. P. Jeedigunta, J. M. Palozzi, R. Lehmann, and T. R. Hurd, 2019 Mitochondrial fragmentation drives selective re- moval of deleterious mtDNA in the germline. Nature 570: 380–384. https://doi.org/10.1038/s41586-019-1213-4\n",
      "López-Otín, C., M. A. Blasco, L. Partridge, M. Serrano, and G. Kroemer, 2013 The hallmarks of aging. Cell 153: 1194– 1217. https://doi.org/10.1016/j.cell.2013.05.039\n",
      "McWilliams, T. G., A. R. Prescott, G. F. Allen, J. Tamjar, M. J. Munson et al., 2016 mito-QC illuminates mitophagy and mi- tochondrial architecture in vivo. J. Cell Biol. 214: 333–345. https://doi.org/10.1083/jcb.201603039\n",
      "McWilliams, T. G., A. R. Prescott, L. Montava-Garriga, G. Ball, F. Singh et al., 2018 Basal mitophagy occurs independently of PINK1 in mouse tissues of high metabolic demand. Cell Metab. 27: 439–449.e5. https://doi.org/10.1016/j.cmet.2017.12.008 Mengel-From, J., M. Thinggaard, C. Dalgård, K. O. Kyvik, K. Christensen et al., 2014 Mitochondrial DNA copy number in peripheral blood cells declines with age and is associated with general health among elderly. Hum. Genet. 133: 1149– 1159. https://doi.org/10.1007/s00439-014-1458-9\n",
      "Mishra, P., and D. C. Chan, 2016 Metabolic regulation of mito- chondrial dynamics. J. Cell Biol. 212: 379–387. https://doi.org/ 10.1083/jcb.201511036\n",
      "Morris, J., Y.-J. Na, H. Zhu, J.-H. Lee, H. Giang et al., 2017 Pervasive within-mitochondrion single-nucleotide vari- ant heteroplasmy as revealed by single-mitochondrion sequenc- ing. Cell Rep. 21: 2706–2713. https://doi.org/10.1016/ j.celrep.2017.11.031\n",
      "Mouli, P. K., G. Twig, and O. S. Shirihai, 2009 Frequency and selectivity of mitochondrial fusion are key to its quality mainte- nance function. Biophys. J. 96: 3509–3518. https://doi.org/ 10.1016/j.bpj.2008.12.3959\n",
      "Narendra, D., A. Tanaka, D.-F. Suen, and R. J. Youle, 2008 Parkin is recruited selectively to impaired mitochondria and promotes their autophagy. J. Cell Biol. 183: 795–803. https://doi.org/ 10.1083/jcb.200809125\n",
      "Pan, J., L. Wang, C. Lu, Y. Zhu, Z. Min et al., 2019 Matching mitochondrial DNA haplotypes for circumventing tissue-speciﬁc segregation bias. iScience 13: 371–379. https://doi.org/10.1016/ j.isci.2019.03.002\n",
      "Patel, P. K., O. Shirihai, and K. C. Huang, 2013 Optimal dynamics for quality control in spatially distributed mitochondrial net- works. PLoS Comput. Biol. 9: e1003108. https://doi.org/ 10.1371/journal.pcbi.1003108\n",
      "Payne, B. A., I. J. Wilson, P. Yu-Wai-Man, J. Coxhead, D. Deehan et al., 2012 Universal heteroplasmy of human mitochondrial DNA. Hum. Mol. Genet. 22: 384–390. https://doi.org/10.1093/ hmg/dds435\n",
      "Perier, C., A. Bender, E. García-Arumí, M. J. Melia, J. Bove et al., 2013 Accumulation of mitochondrial DNA deletions within dopaminergic neurons triggers neuroprotective mechanisms. Brain 136: 2369–2378. https://doi.org/10.1093/brain/awt196 Picard, M., J. Zhang, S. Hancock, O. Derbeneva, R. Golhar et al., 2014 Progressive increase in mtDNA 3243A.G heteroplasmy causes abrupt transcriptional reprogramming. Proc. Natl. Acad. Sci. USA 111: E4033–E4042. https://doi.org/10.1073/pnas.1414028111 Poovathingal, S. K., J. Gruber, B. Halliwell, and R. Gunawan, 2009 Stochastic drift in mitochondrial DNA point mutations: a novel perspective ex silico. PLoS Comput. Biol. 5: e1000572. https://doi.org/10.1371/journal.pcbi.1000572\n",
      "Poovathingal, S. K., J. Gruber, L. Lakshmanan, B. Halliwell, and R. Gunawan, 2012 Is mitochondrial DNA turnover slower than\n",
      "D o w n o a d e d\n",
      "l\n",
      "f r o m h\n",
      "t t\n",
      "p s : / /\n",
      "a c a d e m c . o u p . c o m g e n e\n",
      "i / t i c s / a r t i c e 2 1 2 4 1 4 2 9 5 9 3 1 2 4 1 b y g u e s t l / / / / o n 1 3 A p r i l 2 0 2 4\n",
      "commonly assumed? Biogerontology 13: 557–564. https:// doi.org/10.1007/s10522-012-9390-7\n",
      "Rossignol, R., B. Faustin, C. Rocher, M. Malgat, J. Mazat et al., 2003 Mitochondrial threshold effects. Biochem. J. 370: 751– 762. https://doi.org/10.1042/bj20021594\n",
      "Salk, J. J., M. W. Schmitt, and L. A. Loeb, 2018 Enhancing the accuracy of next-generation sequencing for detecting rare and subclonal mutations. Nat. Rev. Genet. 19: 269–285. https:// doi.org/10.1038/nrg.2017.117\n",
      "Samuels, D. C., P. Wonnapinij, L. Cree, and P. F. Chinnery, 2010 Reassessing evidence for a postnatal mitochondrial ge- netic bottleneck. Nat. Genet. 42: 471–472. https://doi.org/ 10.1038/ng0610-471\n",
      "Samuels, D. C., C. Li, B. Li, Z. Song, E. Torstenson et al., 2013 Recurrent tissue-speciﬁc mtDNA mutations are common in humans. PLoS Genet. 9: e1003929. https://doi.org/10.1371/ journal.pgen.1003929\n",
      "Schon, E. A., S. DiMauro, and M. Hirano, 2012 Human mitochon- drial DNA: roles of inherited and somatic mutations. Nat. Rev. Genet. 13: 878–890. https://doi.org/10.1038/nrg3275\n",
      "Sharpley, M. S., C. Marciniak, K. Eckel-Mahan, M. McManus, M. Crimi et al., 2012 Heteroplasmy of mouse mtDNA is geneti- cally unstable and results in altered behavior and cognition. Cell 151: 333–343. https://doi.org/10.1016/j.cell.2012.09.004 Solignac, M., J. Génermont, M. Monnerot, and J.-C. Mounolou, 1987 Drosophila mitochondrial genetics: evolution of hetero- plasmy through germ line cell divisions. Genetics 117: 687–696. Stewart, J. B., and P. F. Chinnery, 2015 The dynamics of mito- chondrial DNA heteroplasmy: implications for human health and disease. Nat. Rev. Genet. 16: 530–542. https://doi.org/ 10.1038/nrg3966\n",
      "Stewart, J. B., and N.-G. Larsson, 2014 Keeping mtDNA in shape between generations. PLoS Genet. 10: e1004670. https:// doi.org/10.1371/journal.pgen.1004670\n",
      "Suen, D.-F., D. P. Narendra, A. Tanaka, G. Manfredi, and R. J. Youle, 2010 Parkin overexpression selects against a deleteri- ous mtDNA mutation in heteroplasmic cybrid cells. Proc. Natl. Acad. Sci. USA 107: 11835–11840. https://doi.org/10.1073/ pnas.0914569107\n",
      "Sukhorukov, V. M., D. Dikov, A. S. Reichert, and M. Meyer- Hermann, 2012 Emergence of the mitochondrial reticulum from ﬁssion and fusion dynamics. PLoS Comput. Biol. 8: e1002745. https://doi.org/10.1371/journal.pcbi.1002745 Szabadkai, G., A. M. Simoni, K. Bianchi, D. De Stefani, S. Leo et al., 2006 Mitochondrial dynamics and Ca2+ signaling. Biochim. Biophys. Acta 1763: 442–449. https://doi.org/10.1016/j.bbamcr. 2006.04.002\n",
      "Tam, Z. Y., J. Gruber, B. Halliwell, and R. Gunawan, 2013 Mathematical modeling of the role of mitochondrial fu- sion and ﬁssion in mitochondrial DNA maintenance. PLoS One 8: e76230. https://doi.org/10.1371/journal.pone.0076230\n",
      "Tam, Z. Y., J. Gruber, B. Halliwell, and R. Gunawan, 2015 Context-dependent role of mitochondrial fusion-ﬁssion in clonal expansion of mtDNA mutations. PLoS Comput. Biol. 11: e1004183. https://doi.org/10.1371/journal.pcbi. 1004183\n",
      "Taylor, R. W., M. J. Barron, G. M. Borthwick, A. Gospel, P. F. Chinnery et al., 2003 Mitochondrial DNA mutations in human Invest. 112: 1351–1360. colonic crypt stem cells. J. Clin. https://doi.org/10.1172/JCI19435\n",
      "Trifunovic, A., A. Wredenberg, M. Falkenberg, J. N. Spelbrink, A. T. Rovio et al., 2004 Premature ageing in mice expressing defec- tive mitochondrial DNA polymerase. Nature 429: 417–423. https://doi.org/10.1038/nature02517\n",
      "Twig, G., A. Elorza, A. J. Molina, H. Mohamed, J. D. Wikstrom et al., 2008 Fission and selective fusion govern mitochondrial segregation and elimination by autophagy. EMBO J. 27: 433– 446. https://doi.org/10.1038/sj.emboj.7601963\n",
      "Wachsmuth, M., A. Hübner, M. Li, B. Madea, and M. Stoneking, 2016 Age-related and heteroplasmy-related variation in hu- man mtDNA copy number. PLoS Genet. 12: e1005939. https://doi.org/10.1371/journal.pgen.1005939\n",
      "Wai, T., D. Teoli, and E. A. Shoubridge, 2008 The mitochondrial DNA genetic bottleneck results from replication of a subpopula- tion of genomes. Nat. Genet. 40: 1484–1488. https://doi.org/ 10.1038/ng.258\n",
      "Wallace, D. C., and D. Chalkia, 2013 Mitochondrial DNA genetics and the heteroplasmy conundrum in evolution and disease. Cold Spring Harb. Perspect. Biol. 5: a021220. https://doi.org/ 10.1101/cshperspect.a021220\n",
      "Wonnapinij, P., P. Chinnery, and D. Samuels, 2008 The distribu- tion of mitochondrial DNA heteroplasmy due to random genetic drift. Am. J. Hum. Genet. 83: 582–593. https://doi.org/10.1016/ j.ajhg.2008.10.007\n",
      "Woods, D. C., K. Khrapko, and J. L. Tilly, 2018 Inﬂuence of ma- ternal aging on mitochondrial heterogeneity, inheritance, and function in oocytes and preimplantation embryos. Genes (Basel) 9: 265. https://doi.org/10.3390/genes9050265\n",
      "Ye, K., J. Lu, F. Ma, A. Keinan, and Z. Gu, 2014 Extensive path- ogenicity of mitochondrial heteroplasmy in healthy human individuals. Proc. Natl. Acad. Sci. USA 111: 10654–10659. https://doi.org/10.1073/pnas.1403521111\n",
      "Zamponi, N., E. Zamponi, S. A. Cannas, O. V. Billoni, P. R. Helguera et al., 2018 Mitochondrial network complexity emerges from ﬁssion/fusion dynamics. Sci. Rep. 8: 363. https://doi.org/10.1038/ s41598-017-18351-5\n",
      "Zheng, W., K. Khrapko, H. A. Coller, W. G. Thilly, and W. C. Copeland, 2006 Origins of human mitochondrial point mutations as DNA polymerase g-mediated errors. Mutat. Res. 599: 11–20. https:// doi.org/10.1016/j.mrfmmm.2005.12.012\n",
      "Communicating editor: L. Wahl\n",
      "Mitochondrial Networks and Genetics\n",
      "D o w n o a d e d\n",
      "l\n",
      "f r o m h\n",
      "t t\n",
      "p s : / /\n",
      "a c a d e m c . o u p . c o m g e n e\n",
      "i\n",
      "/ t i c s / a r t i c e 2 1 2 4 1 4 2 9 5 9 3 1 2 4 1 b y g u e s t l / / / / o n 1 3 A p r i l 2 0 2 4\n"
     ]
    }
   ],
   "source": [
    "print(elements_to_text(out_yolox))"
   ]
  },
  {
   "cell_type": "code",
   "execution_count": null,
   "id": "c446fc85",
   "metadata": {},
   "outputs": [],
   "source": []
  }
 ],
 "metadata": {
  "kernelspec": {
   "display_name": "Python 3 (ipykernel)",
   "language": "python",
   "name": "python3"
  },
  "language_info": {
   "codemirror_mode": {
    "name": "ipython",
    "version": 3
   },
   "file_extension": ".py",
   "mimetype": "text/x-python",
   "name": "python",
   "nbconvert_exporter": "python",
   "pygments_lexer": "ipython3",
   "version": "3.8.5"
  }
 },
 "nbformat": 4,
 "nbformat_minor": 5
}
